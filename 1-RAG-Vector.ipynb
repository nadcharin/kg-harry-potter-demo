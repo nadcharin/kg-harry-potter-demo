{
 "cells": [
  {
   "cell_type": "code",
   "execution_count": 11,
   "metadata": {},
   "outputs": [],
   "source": [
    "import os\n",
    "from langchain.vectorstores.neo4j_vector import Neo4jVector\n",
    "from langchain.embeddings.openai import OpenAIEmbeddings\n",
    "from langchain.prompts import PromptTemplate\n",
    "from langchain.graphs import Neo4jGraph\n",
    "\n",
    "\n",
    "os.environ['OPENAI_API_KEY'] = os.getenv('OPENAI_API_KEY')\n",
    "\n",
    "index_name = 'typical_rag'\n",
    "\n",
    "\n",
    "store = Neo4jVector.from_existing_index(\n",
    "    OpenAIEmbeddings(),\n",
    "    url=os.getenv('NEO4J_URI'),\n",
    "    username=os.getenv('NEO4J_USER'),\n",
    "    password=os.getenv('NEO4J_PASSWORD'),\n",
    "    index_name=index_name,\n",
    ")"
   ]
  },
  {
   "cell_type": "markdown",
   "metadata": {},
   "source": [
    "## Graph model\n",
    "\n",
    "<img src=\"img/graph_model.png\" width=\"800\"/>"
   ]
  },
  {
   "cell_type": "markdown",
   "metadata": {},
   "source": [
    "### Vector similarity search"
   ]
  },
  {
   "cell_type": "code",
   "execution_count": 12,
   "metadata": {},
   "outputs": [],
   "source": [
    "def do_similarity_search(store,question,k):\n",
    "    docs_with_score = store.similarity_search_with_score(question, k=k)\n",
    "    for doc, score in docs_with_score:\n",
    "        print(\"-\" * 120)\n",
    "        print(\"Score: \", score)\n",
    "        print(doc.page_content)"
   ]
  },
  {
   "cell_type": "code",
   "execution_count": 13,
   "metadata": {},
   "outputs": [
    {
     "name": "stdout",
     "output_type": "stream",
     "text": [
      "------------------------------------------------------------------------------------------------------------------------\n",
      "Score:  0.9279569983482361\n",
      ", just before Harry's eleventh birthday, owls begin delivering letters addressed to him. When the abusive Dursleys adamantly refuse to allow Harry to open any and flee to an island hut, Hagrid arrives to personally deliver Harry's letter of acceptance to Hogwarts. Hagrid also reveals that Harry's parents, James and Lily, were killed by a dark wizard named Lord Voldemort. The killing curse that Voldemort had cast towards Harry rebounded, destroying Voldemort's body and giving Harry his lightning-bolt scar. Hagrid then takes Harry to Diagon Alley for school supplies and gives him a pet snowy owl whom he names Hedwig. Harry buys a wand that is connected to Voldemort's own wand.\n",
      "At King's Cross station, Harry boards the Hogwarts Express train, and meets fellow students Ron Weasley and Hermione Granger during the journey. Arriving at Hogwarts, Harry also meets Draco Malfoy, who is from a wealthy wizard family; the two immediately form a rivalry. The students assemble in the Great Hall where the Sorting Hat sorts the first-years into four respective houses: Gryffindor, Hufflepuff, Ravenclaw, and Slytherin. Harry is placed into Gryffindor alongside Ron and Hermione, while Draco is placed into Slytherin, a house noted for dark wizards.\n",
      "As he studies magic, Harry learns more about his parents and Voldemort, and his natural talent for broomstick flying gets him recruited for the Gryffindor Quidditch team as the youngest Seeker in a century. While returning to the Gryffindor common room, the staircases change paths, leading Harry, Ron and Hermione to the third floor, which is forbidden to students. There they discover a giant three-headed dog named Fluffy. On Halloween, Ron insults Hermione after she shows off in Charms class; upset, she spends the entire afternoon crying in the girls' bathroom. That evening, a giant marauding troll enters it, but Harry and Ron save Hermione, and they make up and become close friends after Hermione takes the blame for the incident by claiming she went looking for the troll.\n",
      "The trio discover that Fluffy is guarding the philosopher's stone, a magical object that can turn metal into gold and produce an immortality elixir. Harry suspects that Severus Snape, the Potions teacher and head of the Slytherin House, wants the stone to return Voldemort to physical form. When Hagrid accidentally reveals that music puts Fluffy asleep, Harry, Ron and Hermione decide to find the stone before Snape. Fluffy\n",
      "------------------------------------------------------------------------------------------------------------------------\n",
      "Score:  0.9260671138763428\n",
      " parents, and an angry Harry causes her to inflate and float away. Expecting to be expelled for using magic outside school, Harry flees with his belongings.\n",
      "The Knight Bus, emergency transport for stranded witches and wizards, finds and takes Harry to the Leaky Cauldron, where Minister for Magic Cornelius Fudge assures Harry that he will not be punished. Reuniting with his best friends Ron Weasley and Hermione Granger, Harry learns that Sirius Black, a convicted supporter of Lord Voldemort, has escaped Azkaban Prison and intends to kill him. During the journey to Hogwarts, the Hogwarts Express is boarded by Dementors, ghostly prison guards searching for Black. One enters Harry's compartment, causing him to faint, but new Defense Against the Dark Arts teacher Remus Lupin repels it with a Patronus Charm. At Hogwarts, Headmaster Albus Dumbledore announces that Dementors will patrol the school until Black is captured.\n",
      "Rubeus Hagrid is appointed Care of Magical Creatures teacher, but his first class goes awry when Draco Malfoy provokes a Hippogriff named Buckbeak into attacking him; Malfoy's father, Lucius, consequently has Buckbeak sentenced to death.\n",
      "Returning to Gryffindor Tower, the students find the Fat Lady's portrait has been attacked, and the terrified Fat Lady warns Dumbledore that Black entered the castle. During a stormy Quidditch match, Dementors cause Harry to fall off his broomstick, which is destroyed by the Whomping Willow. Dumbledore uses the Slowing Charm to break Harry's fall, who later wakes up in the infirmary.\n",
      "Harry, after leaving the infirmary, is caught trying to visit Hogsmeade by Fred and George, who give him the Marauder's Map. Using the map, Harry sneaks into Hogsmeade and learns that Black is his godfather but divulged the Potters' whereabouts to Voldemort and murdered their mutual friend Peter Pettigrew.\n",
      "Determined to ward off the Dementors, Harry convinces Lupin to teach him the Patronus Charm. After Divination class, he witnesses Professor Trelawney enter a trance and prophesy that the Dark Lord will return. Watching Buckbeak's execution, Ron's pet rat Scabbers bites him and escapes, but a large black dog drags them both into a hole at the base of the Whomping Willow. This leads the trio through an underground passage into the Shrieking Shack, where the\n"
     ]
    }
   ],
   "source": [
    "question = \"\"\"How does Harry Potter discover he is a wizard?\"\"\"\n",
    "do_similarity_search(store,question,k=2)"
   ]
  },
  {
   "cell_type": "code",
   "execution_count": 102,
   "metadata": {},
   "outputs": [
    {
     "name": "stdout",
     "output_type": "stream",
     "text": [
      "------------------------------------------------------------------------------------------------------------------------\n",
      "Score:  0.9430073499679565\n",
      "Harry Potter and the Philosopher's Stone (also known as Harry Potter and the Sorcerer's Stone) is a 2001 fantasy film directed by Chris Columbus and produced by David Heyman, from a screenplay by Steve Kloves, based on the 1997 novel of the same name by J. K. Rowling. It is the first instalment in the Harry Potter film series. The film stars Daniel Radcliffe as Harry Potter, with Rupert Grint as Ron Weasley, and Emma Watson as Hermione Granger. Its story follows Harry's first year at Hogwarts School of Witchcraft and Wizardry as he discovers that he is a famous wizard and begins his formal wizarding education.\n",
      "Warner Bros. Pictures bought the film rights to the book in 1999 for a reported £1 million ($1.65 million). Production began in the United Kingdom in 2000, with Columbus being chosen to helm the film from a short list of directors that included Steven Spielberg and Rob Reiner. Rowling insisted that the entire cast be British and Irish, with the three leads chosen in August 2000 following open casting calls. Filming took place at Leavesden Film Studios and historic buildings around the United Kingdom from September 2000 to March 2001.\n",
      "Harry Potter and the Philosopher's Stone was released to cinemas in the United Kingdom and Ireland on 10 and 11 November 2001 for two days of previews. The film opened on 16 November in the United States, Canada, and Taiwan as well as officially in the United Kingdom and Ireland. It became a critical and commercial success, grossing $974 million at the worldwide box office during its initial run, and over $1 billion with subsequent re-releases. It became the highest-grossing film of 2001 and the second-highest-grossing film at the time. The film was nominated for many awards, including Academy Awards for Best Original Score, Best Art Direction and Best Costume Design. It was followed by seven sequels, beginning with Harry Potter and the Chamber of Secrets in 2002 and ending with Harry Potter and the Deathly Hallows – Part 2 in 2011.\n",
      "\n",
      "\n",
      "== Plot ==\n",
      "Late one night, Albus Dumbledore and Minerva McGonagall, professors at Hogwarts School of Witchcraft and Wizardry, along with groundskeeper Rubeus Hagrid, deliver an orphaned infant wizard named Harry Potter to his Muggle aunt and uncle, Petunia and Vernon Dursley, his only living relatives.\n",
      "Ten years later, just before Harry's eleventh birthday, owls begin delivering letters addressed to him. When the abusive Dursleys\n",
      "------------------------------------------------------------------------------------------------------------------------\n",
      "Score:  0.9276347160339355\n",
      "] felt easily could be changed\". The Quidditch pitch is altered from a traditional stadium to an open field circled by spectator towers.The book's timeline is not enforced in the film. In the book, Harry's eleventh birthday is in 1991. On the film set for 4 Privet Drive, Dudley's certificates from primary school bear the year 2001.\n",
      "\n",
      "\n",
      "== Distribution ==\n",
      "\n",
      "\n",
      "=== Marketing ===\n",
      "The first teaser poster of the film was released on 1 December 2000. The first teaser trailer was released via satellite on 2 March 2001 and debuted in cinemas with the release of See Spot Run. A video game based on the film was released on 15 November 2001 by Electronic Arts for several consoles. A port for the game, for the GameCube, PlayStation 2, and Xbox, was released in 2003. Mattel won the rights to produce toys based on the film, to be sold exclusively through Warner Brothers' stores. Hasbro also produced products, including confectionery products based on those from the series. Warner Bros. signed a deal worth US$150 million with Coca-Cola to promote the film, although some pegged the deal at $40 million-$50 million worldwide for the movie. Lego produced a series of sets based on buildings and scenes from the film, as well as a Lego Creator video game.\n",
      "\n",
      "\n",
      "=== Theatrical release ===\n",
      "Harry Potter and the Philosopher's Stone had its world premiere at the Odeon Leicester Square in London on 4 November 2001, with the cinema arranged to resemble Hogwarts School.The film had previews in the United Kingdom on 1,137 screens at 491 theatres on 10 and 11 November 2001. It officially opened on 16 November 2001 on 1,168 screens at 507 theatres in the United Kingdom and Ireland; in 3,672 theatres in the United States and Canada. It was the widest release at the time in the United Kingdom and the United States.\n",
      "\n",
      "\n",
      "=== Home media ===\n",
      "Harry Potter and the Philosopher's Stone was first released on VHS and DVD on 11 May 2002 in the United Kingdom and 28 May 2002 in the United States. \n",
      "Between May and June 2002, the film sold 10 million copies, almost 60% of which were DVD sales. It would go on to make $19.1 million in rentals, surpassing The Fast and the Furious for having the largest DVD rentals. This record was surpassed by The Bourne Identity in January 2003.In December 2009, a 4-disc \"Ultimate Edition\" was released, with seven minutes\n"
     ]
    }
   ],
   "source": [
    "question = \"What year was 'Harry Potter and the Philosopher's Stone' released, and which actors played the roles of Harry Potter, Ron Weasley, and Hermione Granger?\"\n",
    "do_similarity_search(store,question,k=2)"
   ]
  },
  {
   "cell_type": "markdown",
   "metadata": {},
   "source": [
    "##### Q&A with typical_rag index (typical chunking strategy)"
   ]
  },
  {
   "cell_type": "code",
   "execution_count": 14,
   "metadata": {},
   "outputs": [],
   "source": [
    "from langchain.chains import RetrievalQA\n",
    "from langchain.chat_models import ChatOpenAI"
   ]
  },
  {
   "cell_type": "code",
   "execution_count": 5,
   "metadata": {},
   "outputs": [],
   "source": [
    "def qna(question,k):\n",
    "    template = \"\"\"You are a helpful assistant. Your task is to answer the question using only the provided document.\n",
    "    {context}\n",
    "\n",
    "    Question: {question}\n",
    "    Answer:\n",
    "    \"\"\"\n",
    "    prompt = PromptTemplate(\n",
    "    template=template,\n",
    "    input_variables=[\n",
    "        'context',\n",
    "        'question',\n",
    "    ]\n",
    ")\n",
    "    child_store = Neo4jVector.from_existing_index(\n",
    "    OpenAIEmbeddings(),\n",
    "    url=os.getenv('NEO4J_URI'),\n",
    "    username=os.getenv('NEO4J_USER'),\n",
    "    password=os.getenv('NEO4J_PASSWORD'),\n",
    "    index_name=\"typical_rag\",\n",
    ")\n",
    "    vector_qa = RetrievalQA.from_chain_type(\n",
    "    llm=ChatOpenAI(temperature=0.0,model_name=os.getenv('OPENAI_MODEL')), chain_type=\"stuff\", retriever=child_store.as_retriever(search_kwargs={\"k\":k}),chain_type_kwargs={\n",
    "        \"prompt\": prompt\n",
    "    })\n",
    "    print(\"Document list : \")\n",
    "    do_similarity_search(child_store,question,k=k)\n",
    "    print(\"\\n\\n\\nAnswer is : \")\n",
    "    return vector_qa.run(question)"
   ]
  },
  {
   "cell_type": "code",
   "execution_count": 15,
   "metadata": {},
   "outputs": [
    {
     "name": "stdout",
     "output_type": "stream",
     "text": [
      "Document list : \n",
      "------------------------------------------------------------------------------------------------------------------------\n",
      "Score:  0.9279569983482361\n",
      ", just before Harry's eleventh birthday, owls begin delivering letters addressed to him. When the abusive Dursleys adamantly refuse to allow Harry to open any and flee to an island hut, Hagrid arrives to personally deliver Harry's letter of acceptance to Hogwarts. Hagrid also reveals that Harry's parents, James and Lily, were killed by a dark wizard named Lord Voldemort. The killing curse that Voldemort had cast towards Harry rebounded, destroying Voldemort's body and giving Harry his lightning-bolt scar. Hagrid then takes Harry to Diagon Alley for school supplies and gives him a pet snowy owl whom he names Hedwig. Harry buys a wand that is connected to Voldemort's own wand.\n",
      "At King's Cross station, Harry boards the Hogwarts Express train, and meets fellow students Ron Weasley and Hermione Granger during the journey. Arriving at Hogwarts, Harry also meets Draco Malfoy, who is from a wealthy wizard family; the two immediately form a rivalry. The students assemble in the Great Hall where the Sorting Hat sorts the first-years into four respective houses: Gryffindor, Hufflepuff, Ravenclaw, and Slytherin. Harry is placed into Gryffindor alongside Ron and Hermione, while Draco is placed into Slytherin, a house noted for dark wizards.\n",
      "As he studies magic, Harry learns more about his parents and Voldemort, and his natural talent for broomstick flying gets him recruited for the Gryffindor Quidditch team as the youngest Seeker in a century. While returning to the Gryffindor common room, the staircases change paths, leading Harry, Ron and Hermione to the third floor, which is forbidden to students. There they discover a giant three-headed dog named Fluffy. On Halloween, Ron insults Hermione after she shows off in Charms class; upset, she spends the entire afternoon crying in the girls' bathroom. That evening, a giant marauding troll enters it, but Harry and Ron save Hermione, and they make up and become close friends after Hermione takes the blame for the incident by claiming she went looking for the troll.\n",
      "The trio discover that Fluffy is guarding the philosopher's stone, a magical object that can turn metal into gold and produce an immortality elixir. Harry suspects that Severus Snape, the Potions teacher and head of the Slytherin House, wants the stone to return Voldemort to physical form. When Hagrid accidentally reveals that music puts Fluffy asleep, Harry, Ron and Hermione decide to find the stone before Snape. Fluffy\n",
      "------------------------------------------------------------------------------------------------------------------------\n",
      "Score:  0.9260671138763428\n",
      " parents, and an angry Harry causes her to inflate and float away. Expecting to be expelled for using magic outside school, Harry flees with his belongings.\n",
      "The Knight Bus, emergency transport for stranded witches and wizards, finds and takes Harry to the Leaky Cauldron, where Minister for Magic Cornelius Fudge assures Harry that he will not be punished. Reuniting with his best friends Ron Weasley and Hermione Granger, Harry learns that Sirius Black, a convicted supporter of Lord Voldemort, has escaped Azkaban Prison and intends to kill him. During the journey to Hogwarts, the Hogwarts Express is boarded by Dementors, ghostly prison guards searching for Black. One enters Harry's compartment, causing him to faint, but new Defense Against the Dark Arts teacher Remus Lupin repels it with a Patronus Charm. At Hogwarts, Headmaster Albus Dumbledore announces that Dementors will patrol the school until Black is captured.\n",
      "Rubeus Hagrid is appointed Care of Magical Creatures teacher, but his first class goes awry when Draco Malfoy provokes a Hippogriff named Buckbeak into attacking him; Malfoy's father, Lucius, consequently has Buckbeak sentenced to death.\n",
      "Returning to Gryffindor Tower, the students find the Fat Lady's portrait has been attacked, and the terrified Fat Lady warns Dumbledore that Black entered the castle. During a stormy Quidditch match, Dementors cause Harry to fall off his broomstick, which is destroyed by the Whomping Willow. Dumbledore uses the Slowing Charm to break Harry's fall, who later wakes up in the infirmary.\n",
      "Harry, after leaving the infirmary, is caught trying to visit Hogsmeade by Fred and George, who give him the Marauder's Map. Using the map, Harry sneaks into Hogsmeade and learns that Black is his godfather but divulged the Potters' whereabouts to Voldemort and murdered their mutual friend Peter Pettigrew.\n",
      "Determined to ward off the Dementors, Harry convinces Lupin to teach him the Patronus Charm. After Divination class, he witnesses Professor Trelawney enter a trance and prophesy that the Dark Lord will return. Watching Buckbeak's execution, Ron's pet rat Scabbers bites him and escapes, but a large black dog drags them both into a hole at the base of the Whomping Willow. This leads the trio through an underground passage into the Shrieking Shack, where the\n",
      "\n",
      "\n",
      "\n",
      "Answer is : \n",
      "Harry Potter discovers he is a wizard when Hagrid arrives at the island hut, where the Dursleys have fled to avoid the letters from Hogwarts, to personally deliver Harry's letter of acceptance to Hogwarts School of Witchcraft and Wizardry. Hagrid also reveals to Harry that his parents were wizards and were killed by the dark wizard Lord Voldemort.\n"
     ]
    }
   ],
   "source": [
    "print(qna(question=\"How does Harry Potter discover he is a wizard?\",k=2))"
   ]
  },
  {
   "cell_type": "code",
   "execution_count": 16,
   "metadata": {},
   "outputs": [
    {
     "name": "stdout",
     "output_type": "stream",
     "text": [
      "Document list : \n",
      "------------------------------------------------------------------------------------------------------------------------\n",
      "Score:  0.9430073499679565\n",
      "Harry Potter and the Philosopher's Stone (also known as Harry Potter and the Sorcerer's Stone) is a 2001 fantasy film directed by Chris Columbus and produced by David Heyman, from a screenplay by Steve Kloves, based on the 1997 novel of the same name by J. K. Rowling. It is the first instalment in the Harry Potter film series. The film stars Daniel Radcliffe as Harry Potter, with Rupert Grint as Ron Weasley, and Emma Watson as Hermione Granger. Its story follows Harry's first year at Hogwarts School of Witchcraft and Wizardry as he discovers that he is a famous wizard and begins his formal wizarding education.\n",
      "Warner Bros. Pictures bought the film rights to the book in 1999 for a reported £1 million ($1.65 million). Production began in the United Kingdom in 2000, with Columbus being chosen to helm the film from a short list of directors that included Steven Spielberg and Rob Reiner. Rowling insisted that the entire cast be British and Irish, with the three leads chosen in August 2000 following open casting calls. Filming took place at Leavesden Film Studios and historic buildings around the United Kingdom from September 2000 to March 2001.\n",
      "Harry Potter and the Philosopher's Stone was released to cinemas in the United Kingdom and Ireland on 10 and 11 November 2001 for two days of previews. The film opened on 16 November in the United States, Canada, and Taiwan as well as officially in the United Kingdom and Ireland. It became a critical and commercial success, grossing $974 million at the worldwide box office during its initial run, and over $1 billion with subsequent re-releases. It became the highest-grossing film of 2001 and the second-highest-grossing film at the time. The film was nominated for many awards, including Academy Awards for Best Original Score, Best Art Direction and Best Costume Design. It was followed by seven sequels, beginning with Harry Potter and the Chamber of Secrets in 2002 and ending with Harry Potter and the Deathly Hallows – Part 2 in 2011.\n",
      "\n",
      "\n",
      "== Plot ==\n",
      "Late one night, Albus Dumbledore and Minerva McGonagall, professors at Hogwarts School of Witchcraft and Wizardry, along with groundskeeper Rubeus Hagrid, deliver an orphaned infant wizard named Harry Potter to his Muggle aunt and uncle, Petunia and Vernon Dursley, his only living relatives.\n",
      "Ten years later, just before Harry's eleventh birthday, owls begin delivering letters addressed to him. When the abusive Dursleys\n",
      "------------------------------------------------------------------------------------------------------------------------\n",
      "Score:  0.9276347160339355\n",
      "] felt easily could be changed\". The Quidditch pitch is altered from a traditional stadium to an open field circled by spectator towers.The book's timeline is not enforced in the film. In the book, Harry's eleventh birthday is in 1991. On the film set for 4 Privet Drive, Dudley's certificates from primary school bear the year 2001.\n",
      "\n",
      "\n",
      "== Distribution ==\n",
      "\n",
      "\n",
      "=== Marketing ===\n",
      "The first teaser poster of the film was released on 1 December 2000. The first teaser trailer was released via satellite on 2 March 2001 and debuted in cinemas with the release of See Spot Run. A video game based on the film was released on 15 November 2001 by Electronic Arts for several consoles. A port for the game, for the GameCube, PlayStation 2, and Xbox, was released in 2003. Mattel won the rights to produce toys based on the film, to be sold exclusively through Warner Brothers' stores. Hasbro also produced products, including confectionery products based on those from the series. Warner Bros. signed a deal worth US$150 million with Coca-Cola to promote the film, although some pegged the deal at $40 million-$50 million worldwide for the movie. Lego produced a series of sets based on buildings and scenes from the film, as well as a Lego Creator video game.\n",
      "\n",
      "\n",
      "=== Theatrical release ===\n",
      "Harry Potter and the Philosopher's Stone had its world premiere at the Odeon Leicester Square in London on 4 November 2001, with the cinema arranged to resemble Hogwarts School.The film had previews in the United Kingdom on 1,137 screens at 491 theatres on 10 and 11 November 2001. It officially opened on 16 November 2001 on 1,168 screens at 507 theatres in the United Kingdom and Ireland; in 3,672 theatres in the United States and Canada. It was the widest release at the time in the United Kingdom and the United States.\n",
      "\n",
      "\n",
      "=== Home media ===\n",
      "Harry Potter and the Philosopher's Stone was first released on VHS and DVD on 11 May 2002 in the United Kingdom and 28 May 2002 in the United States. \n",
      "Between May and June 2002, the film sold 10 million copies, almost 60% of which were DVD sales. It would go on to make $19.1 million in rentals, surpassing The Fast and the Furious for having the largest DVD rentals. This record was surpassed by The Bourne Identity in January 2003.In December 2009, a 4-disc \"Ultimate Edition\" was released, with seven minutes\n",
      "\n",
      "\n",
      "\n",
      "Answer is : \n",
      "'Harry Potter and the Philosopher's Stone' was released in 2001. The actors who played the roles were Daniel Radcliffe as Harry Potter, Rupert Grint as Ron Weasley, and Emma Watson as Hermione Granger.\n"
     ]
    }
   ],
   "source": [
    "print(qna(question=\"What year was 'Harry Potter and the Philosopher's Stone' released, and which actors played the roles of Harry Potter, Ron Weasley, and Hermione Granger?\",k=2))"
   ]
  },
  {
   "cell_type": "code",
   "execution_count": 18,
   "metadata": {},
   "outputs": [
    {
     "name": "stdout",
     "output_type": "stream",
     "text": [
      "Document list : \n",
      "------------------------------------------------------------------------------------------------------------------------\n",
      "Score:  0.9229376316070557\n",
      "ry.\n",
      "Rupert Grint as Ron Weasley: Harry's best friend at Hogwarts and a younger member of the Weasley wizarding family.\n",
      "Emma Watson as Hermione Granger: Harry's other best friend and the trio's brains.\n",
      "Robbie Coltrane as Rubeus Hagrid: The gamekeeper and new Care of Magical Creatures teacher at Hogwarts.\n",
      "Michael Gambon as Albus Dumbledore:The headmaster of Hogwarts and one of the greatest wizards of all time. Gambon assumed the role after Richard Harris, who played Dumbledore in the previous two films, died of Hodgkin's disease on 25 October 2002, three weeks before the second film's release. Despite his illness, Harris was determined to film his part, telling a visiting David Heyman not to recast the role. Four months after Harris's death, Cuarón chose Gambon as his replacement. Gambon was unconcerned with bettering or copying Harris, giving his own interpretation instead, but putting on a slight Irish accent for the role as an homage to him. He completed his scenes in three weeks. The producers originally offered the role to Christopher Lee and Ian McKellen, but scheduling conflicts forced Lee to decline whilst McKellen turned it down as he had played a similar character Gandalf in The Lord of the Rings trilogy. He also stated it would have been inappropriate to take Harris' role, as Harris had previously called McKellen a \"dreadful\" actor. Harris' family had expressed an interest in seeing Harris's close friend Peter O'Toole being chosen as his replacement, but the producers felt that his age and health would become troublesome down the line.\n",
      "Richard Griffiths as Vernon Dursley: Harry's Muggle uncle.\n",
      "Gary Oldman as Sirius Black:Harry's infamous godfather, who escapes from the Wizarding prison Azkaban after serving twelve years there for being falsely accused of being the Death Eater who betrayed Harry's parents to Voldemort. Oldman accepted the part because he needed the money, as he had not taken on any major work in several years after deciding to spend more time with his children. He was \"surprised by how difficult it was to pull off\", comparing the role to Shakespearean dialogue.\n",
      "Alan Rickman as Severus Snape: The Potions teacher at Hogwarts and head of Slytherin.\n",
      "Fiona Shaw as Petunia Dursley: Harry's Muggle aunt.\n",
      "Maggie Smith as Minerva McGonagall: Deputy Headmistress of Hogwarts, the Transfiguration teacher at\n",
      "------------------------------------------------------------------------------------------------------------------------\n",
      "Score:  0.9224820137023926\n",
      "\" as a reason for his casting.\n",
      "Michael Gambon as Albus Dumbledore:The headmaster of Hogwarts and one of the greatest wizards of all time. Gambon commented on the state of the character in the film: \"Dumbledore is no longer in control and he's frightened.\" Newell compared Gambon's performance with Richard Harris' iteration in earlier films, showing the character as \"fallible and not omnipotent\" and \"inadequate rather than super-adequate.\"\n",
      "Brendan Gleeson as Alastor \"Mad-Eye\" Moody:A famous ex-Auror appointed by Dumbledore as the new Defence Against the Dark Arts teacher at Hogwarts. Gleeson referred to Moody as \"a gunslinger with a wand,\" whose \"great wounds have damaged him greatly.\" Heyman found Gleeson brought \"a great balance of ferociousness and humour\" to what he called a \"complex, challenging character.\"\n",
      "Jason Isaacs as Lucius Malfoy: Draco's father and a former Hogwarts pupil of Slytherin House. He is also a member of the Death Eaters. Isaacs didn't initially expect to be back in the fourth Harry Potter film, but felt nonetheless grateful to be able to \"get the wig out of mothballs\" while preparing for the next film, where he was slated to have a bigger role.\n",
      "Gary Oldman as Sirius Black: Harry's godfather, who had escaped from Azkaban after being wrongly imprisoned for twelve years and is now a fugitive.\n",
      "Alan Rickman as Severus Snape: The Potions teacher at Hogwarts and head of Slytherin.\n",
      "Maggie Smith as Minerva McGonagall: Deputy Headmistress of Hogwarts, the Transfiguration teacher at Hogwarts and head of Gryffindor.\n",
      "Timothy Spall as Peter Pettigrew / Wormtail: The Death Eater who betrayed Harry's parents to Voldemort.Several actors from the previous film reprise their roles in Goblet of Fire. James and Oliver Phelps play Fred and George Weasley, Ron's twin brothers, and Bonnie Wright as their sister Ginny, while Mark Williams plays their father, Arthur Weasley. Tom Felton portrays Lucius Malfoy's son Draco, Harry's rival in Slytherin, while Jamie Waylett and Joshua Herdman appear as Crabbe and Goyle, Draco's minions. Matthew Lewis, Devon Murray and Alfred Enoch play Neville Longbottom, Seamus Finnigan and Dean Thomas respectively, three Gryffindor students in Harry's year. David Bradley appears as Argus Filch,\n",
      "------------------------------------------------------------------------------------------------------------------------\n",
      "Score:  0.9215927124023438\n",
      "sley plays Hagrid's half-brother, Grawp. Kathryn Hunter plays the Dursley's neighbour, Mrs. Figg. George Harris and Natalia Tena play members of the Order of the Phoenix, Kingsley Shacklebolt and Nymphadora Tonks.\n",
      "\n",
      "\n",
      "== Production ==\n",
      "\n",
      "\n",
      "=== Development ===\n",
      "British television director David Yates was chosen to direct the film after Harry Potter and the Goblet of Fire director Mike Newell, as well as Jean-Pierre Jeunet, Guillermo del Toro, Matthew Vaughn and Mira Nair, turned down offers. Yates believed he was approached because the studio saw him fit to handle an \"edgy and emotional\" film with a \"political backstory\", which some of his previous television projects including State of Play, Sex Traffic and The Girl in the Café demonstrated. Producer David Heyman supported Yates's comments about the film's political theme, stating that \"[Order of the Phoenix] is a political film, not with a capital P, but it's about teen rebellion and the abuse of power. David has made films in the UK about politics without being heavy handed.\" On the film's political and social aspects, Emma Watson stated that \"somehow it talks about life after 7 July, the way people behave when they're scared, the way truth is often denied and all the things our society has to face. Facing the fact that the authority is corrupted means having a non-conformist approach to reality and power.\"Steve Kloves, the screenwriter of the first four Potter films, had other commitments. Michael Goldenberg, who was considered to pen the first film in the series, filled in and wrote the script. Kloves subsequently returned to write all remaining instalments of the series.\n",
      "Mark Day was the film editor, Sławomir Idziak was the cinematographer, and Jany Temime was the costume designer. Choreographer Paul Harris, who had previously worked with David Yates several times, created a physical language for wand combat to choreograph the wand fighting scenes.\n",
      "\n",
      "\n",
      "=== Casting ===\n",
      "Casting began as early as May 2005, when Radcliffe announced he would reprise his role as Harry. Across the media frenzy that took place during the release of Goblet of Fire, most of the main returning actors announced their return to the series, including Grint, Watson, Lewis, Wright, Leung, and Fiennes.The announcements of the casting of the rest of the new characters to the series was\n",
      "------------------------------------------------------------------------------------------------------------------------\n",
      "Score:  0.9198086261749268\n",
      "\n",
      "Maggie Smith as Minerva McGonagall: Deputy Headmistress of Hogwarts, the Transfiguration teacher at Hogwarts and head of Gryffindor.\n",
      "Timothy Spall as Peter Pettigrew: A former friend of Harry's parents said to have been killed by Sirius Black, but was later revealed to have been the real Death Eater who betrayed Harry's parents to Voldemort.\n",
      "David Thewlis as Remus Lupin:The new Defence Against the Dark Arts teacher at Hogwarts and a werewolf. Thewlis, who had previously auditioned for the role of Quirinus Quirrell in Harry Potter and the Philosopher's Stone (2001), was Cuarón's first choice for the role of Professor Lupin. He accepted the role on advice from Ian Hart, who was cast as Quirrell, and had told him that Professor Lupin was \"the best part in the book.\" Thewlis had seen the first two films and had only read part of the first book, although he read the third after taking the role.\n",
      "Emma Thompson as Sybill Trelawney: The Divination teacher at Hogwarts.\n",
      "Julie Walters as Molly Weasley: Ron's mother.Several actors from the previous film reprise their roles in Prisoner of Azkaban. Harry Melling appears as Dudley Dursley, Harry's cousin. James and Oliver Phelps play Fred and George Weasley, Ron's twin brothers; Chris Rankin appears as Percy Weasley, Ron's other brother and a Hogwarts head boy; and Bonnie Wright portrays their sister Ginny, while Mark Williams plays their father, Arthur Weasley. Tom Felton portrays Draco Malfoy, Harry's rival in Slytherin, while Jamie Waylett and Josh Herdman appear as Crabbe and Goyle, Draco's minions. Matthew Lewis and Devon Murray play Neville Longbottom and Seamus Finnigan respectively, two Gryffindor students in Harry's year. David Bradley appears as Argus Filch, Hogwarts' caretaker, while Robert Hardy portrays Cornelius Fudge, the Minister for Magic.Pam Ferris portrays Aunt Marge, Vernon's sister; Lee Ingleby plays Stan Shunpike, conductor of the Knight Bus; and Jim Tavaré appears as Tom, innkeeper of The Leaky Cauldron, replacing Derek Deadman from the first film. Dawn French plays the Fat Lady, a painting at Hogwarts, replacing Elizabeth Spriggs from the first film. Julie Christie appears as Madam Rosmerta, the barmaid\n",
      "------------------------------------------------------------------------------------------------------------------------\n",
      "Score:  0.9154852032661438\n",
      " and former employee at Gringotts Bank. Davis replaced Verne Troyer, who portrayed the character physically in the first film, though Davis had dubbed Griphook's lines.\n",
      "Tom Felton as Draco Malfoy: a Death Eater and son of Lucius and Narcissa Malfoy.\n",
      "Ralph Fiennes as Lord Voldemort: An evil power-hungry wizard, and the leader of the Death Eaters.\n",
      "Michael Gambon as Professor Albus Dumbledore: Former headmaster of Hogwarts killed by Severus Snape in the previous film.\n",
      "Brendan Gleeson as Alastor 'Mad-Eye' Moody: A member of the Order of the Phoenix.\n",
      "John Hurt as Garrick Ollivander: A wandmaker abducted by the Death Eaters.\n",
      "Rhys Ifans as Xenophilius Lovegood: The eccentric father of the trio's friend Luna.\n",
      "Jason Isaacs as Lucius Malfoy: Draco Malfoy's father and a disgraced Death Eater.\n",
      "Helen McCrory as Narcissa Malfoy: Draco's mother and Bellatrix's sister.\n",
      "Bill Nighy as Rufus Scrimgeour: The new Minister for Magic.\n",
      "Alan Rickman as Professor Severus Snape: A double agent to the Death Eaters and the new headmaster of Hogwarts.\n",
      "Timothy Spall as Peter Pettigrew/Wormtail: The Death Eater who betrayed Harry's parents to Voldemort.\n",
      "Imelda Staunton as Dolores Umbridge: Senior Undersecretary to the Minister for Magic and Head of the Muggle-born Registration Commission.\n",
      "David Thewlis as Remus Lupin: A member of the Order of the Phoenix and a former teacher at Hogwarts.\n",
      "Natalia Tena as Nymphadora Tonks: Remus Lupin's wife and a member of the Order of the Phoenix.\n",
      "George Harris as Kingsley Shacklebolt: Another member of the Order of the Phoenix.\n",
      "Julie Walters as Molly Weasley: The Weasley matriarch and a mother figure to Harry.\n",
      "Mark Williams as Arthur Weasley: Ron Weasley's father, a worker at the Ministry of Magic.\n",
      "Domhnall Gleeson as Bill Weasley: Arthur and Molly's eldest son, a member of the Order of the Phoenix who escorts Harry out of Little Whinging and who is to marry Fleur.\n",
      "Clémence Poésy as Fleur Delacour: A French witch of the Beauxbatons School who also escorts Harry from Little Whinging\n",
      "------------------------------------------------------------------------------------------------------------------------\n",
      "Score:  0.9154235124588013\n",
      " Charms master and head of Ravenclaw\n",
      "Tom Felton as Draco Malfoy: Harry's rival and recipient of Voldemort's secret mission\n",
      "Michael Gambon as Albus Dumbledore: The headmaster of Hogwarts\n",
      "Alan Rickman as Severus Snape: The former Potions master, current Defence Against the Dark Arts teacher and head of Slytherin\n",
      "Maggie Smith as Minerva McGonagall: The Hogwarts Transfiguration teacher, deputy headmistress and head of Gryffindor\n",
      "Timothy Spall as Peter Pettigrew: The Death Eater who betrayed Harry's parents to Voldemort; Pettigrew has no lines in this film, but appears as a servant at Snape's house\n",
      "David Thewlis as Remus Lupin: A member of the Order of the Phoenix and Harry's ex-Defence Against the Dark Arts teacher\n",
      "Julie Walters as Molly Weasley: The Weasley matriarch and a mother figure to HarryGemma Jones returned to the cast as Hogwarts' matron, Poppy Pomfrey. Mark Williams plays Molly's husband, Arthur, who is a member of the Order of the Phoenix, while Natalia Tena plays fellow member Nymphadora Tonks. James and Oliver Phelps play Ron's siblings Fred and George and Bonnie Wright plays their sister Ginny, while Devon Murray, Alfred Enoch and Matthew Lewis play Gryffindor students Seamus Finnigan, Dean Thomas and Neville Longbottom. Evanna Lynch and Katie Leung play Ravenclaw students Luna Lovegood and Cho Chang. Jamie Waylett and Joshua Herdman play Slytherin students Vincent Crabbe and Gregory Goyle. Jessie Cave, Anna Shaffer and Freddie Stroma also play Gryffindor  students Lavender Brown, Romilda Vane and Cormac McLaggen respectively, while Rob Knox plays Ravenclaw Marcus Belby. Helen McCrory plays Narcissa Malfoy, Draco's mother and Bellatrix's sister, while David Legeno plays werewolf Fenrir Greyback. Hero Fiennes Tiffin portrayed 11-year-old Tom Riddle, with Frank Dillane playing the 16-year-old version of him.\n",
      "\n",
      "\n",
      "== Production ==\n",
      "\n",
      "\n",
      "=== Development and casting ===\n",
      "Before David Yates was officially chosen to direct the film, many directors had expressed an interest in taking the helm. Alfonso Cuarón, the director of the third film, stated he \"would love to have the opportunity\" to return. Goblet of Fire director Mike Newell declined a spot to direct the fifth film, and was not\n",
      "------------------------------------------------------------------------------------------------------------------------\n",
      "Score:  0.9153034090995789\n",
      ", Leung, and Fiennes.The announcements of the casting of the rest of the new characters to the series was spanned across 2006. Evanna Lynch won the role of Luna Lovegood over 15,000 other girls who attended the open casting call, waiting in a line of hopefuls that stretched a mile long. Saoirse Ronan auditioned for the role but was considered too young.Persistent rumours linked Elizabeth Hurley to the role of Bellatrix Lestrange, although Warner Bros. asserted there was \"no truth whatsoever\" to reports that she had been cast. As early as August 2005, rumours began linking Helen McCrory to the role. On 2 February 2006, it was announced that McCrory had indeed been cast as Bellatrix. However, in April 2006 she revealed that she was three months pregnant and withdrew from the film because she would not have been able to perform the intense battle sequences in the Ministry of Magic in September and October 2006. The announcement that Bonham Carter had been recast in the role was made on 25 May 2006. McCrory was subsequently cast as Narcissa Malfoy from Harry Potter and the Half-Blood Prince onwards.\n",
      "The inclusion or cutting of some characters sparked speculation from fans as to the importance of the characters in the final book of the series, which was released just ten days after the film. In April 2006, representatives of Jim McManus said he would be playing Aberforth Dumbledore, Albus's brother and the barman of the Hog's Head, in which Harry and his friends found Dumbledore's Army. A week later WB announced that the role was \"very minor\", allaying some of the speculation to the significance of the role, which, before the final book, was not even a speaking part. MTV reported in October 2006 that Dobby the house elf, who appeared in the second film, Chamber of Secrets, and in the fifth book, would be cut, opening up \"plot questions\" as to how the role of the elf would be filled. MTV also reported about a month before the release of the final book that Kreacher, the Black family's house-elf, was cut from the film in one draft of the script. Rowling prodded the filmmakers to include him, saying, \"You know, I wouldn't [cut him] if I were you. Or you can, but if you get to make a seventh film, you'll be tied in knots\", he was added back into the script.Other minor roles were cut\n",
      "------------------------------------------------------------------------------------------------------------------------\n",
      "Score:  0.9146650433540344\n",
      " head of Ravenclaw House.\n",
      "Richard Griffiths as Vernon Dursley: Harry's abusive Muggle uncle, who despises wizards and works as a drill company director.\n",
      "Richard Harris as Albus Dumbledore: The headmaster of Hogwarts and one of the greatest wizards of the age. This was Harris' final live-action film; he died shortly before it was released. The role of Dumbledore was played by Michael Gambon from Harry Potter and the Prisoner of Azkaban onwards.\n",
      "Jason Isaacs as Lucius Malfoy: Draco's father and a former Hogwarts pupil of Slytherin House who now works as a school governor at Hogwarts. Isaacs gave Lucius a whiny tone of voice based on that of the Child Catcher of Chitty Chitty Bang Bang, whose voice had resonated with Isaacs throughout his childhood for the character scaring him.\n",
      "Maggie Smith as Minerva McGonagall: The Transfiguration teacher at Hogwarts and head of Gryffindor House.\n",
      "Gemma Jones as Madame Pomfrey: The Hogwarts nurse.\n",
      "Alan Rickman as Severus Snape: The Potions teacher at Hogwarts and head of Slytherin House.\n",
      "Fiona Shaw as Petunia Dursley: Harry's Muggle aunt.\n",
      "Julie Walters as Molly Weasley: Ron's mother.Several actors from Philosopher's Stone reprise their roles in this film. Harry Melling portrays Dudley Dursley, Harry's cousin. James and Oliver Phelps play Fred and George Weasley, Ron's twin brothers; Chris Rankin appears as Percy Weasley, Ron's other brother and a Gryffindor prefect; and Bonnie Wright portrays their sister Ginny. Tom Felton plays Draco Malfoy, Harry's rival in Slytherin, while Jamie Waylett and Joshua Herdman appear as Crabbe and Goyle, Draco's minions. Matthew Lewis, Devon Murray and Alfred Enoch play Neville Longbottom, Seamus Finnigan and Dean Thomas, respectively, three Gryffindor students in Harry's year. David Bradley portrays Argus Filch, Hogwarts' caretaker, and Sean Biggerstaff as Oliver Wood, the Keeper of the Gryffindor Quidditch team. Leslie Phillips voices the Sorting Hat. Eleanor Columbus, Chris Columbus's daughter, appears as \tSusan Bones, \tEdward Randell appears as \tJustin Finch-Fletchley, \tCharlotte Skeoch as Hannah Abbott, and Louis Doyle as \tErnie MacMillan; Hufflepuff students. Emily\n",
      "------------------------------------------------------------------------------------------------------------------------\n",
      "Score:  0.9142487049102783\n",
      ", ambush them. Lucius reveals that Harry's vision of Sirius being tortured was a ruse to lure him there. Harry refuses to give Lucius the prophecy, and a fight between Dumbledore's Army and the Death Eaters ensues. The Death Eaters overpower the students and force Harry to surrender the prophecy. When Harry hands it to Lucius, Sirius and Remus Lupin arrive with Order members Nymphadora Tonks, Kingsley Shacklebolt and Mad-Eye Moody. As they attack the Death Eaters, Lucius drops the prophecy, destroying it. Just as Sirius overpowers Lucius, Bellatrix kills Sirius.\n",
      "Voldemort appears, but moments before he can kill Harry, Dumbledore arrives. A violent duel erupts, destroying much of the Atrium, while Bellatrix escapes. The two wizards are evenly matched, so Voldemort possesses Harry's body, wanting Dumbledore to sacrifice him. The love Harry feels for his friends and family quickly drives out Voldemort. Ministry officials arrive before Voldemort disapparates; Fudge admits that Voldemort has returned and resigns in disgrace. Umbridge is dismissed and Dumbledore returns as Hogwarts headmaster. Dumbledore explains he had distanced himself from Harry to prevent Voldemort exploiting their connection. He also reveals the prophecy. As he grieves Sirius's death, Harry tries coming to terms with the prophecy: \"Neither can live while the other survives.\"\n",
      "\n",
      "\n",
      "== Cast ==\n",
      "\n",
      "Mark Williams appears as Molly Weasley's husband, Arthur, a member of the Order of the Phoenix. Warwick Davis plays Filius Flitwick, the school's charms teacher, maestro and Head of Ravenclaw House while David Bradley plays Hogwarts caretaker, Argus Filch. Tom Felton, Jamie Waylett and Joshua Herdman play Slytherin students Draco Malfoy, Vincent Crabbe and Gregory Goyle. James and Oliver Phelps, Bonnie Wright and Chris Rankin play Ron's siblings, Fred, George, Ginny and Percy while Devon Murray, Alfred Enoch and Matthew Lewis play Gryffindor students, Seamus Finnigan, Dean Thomas and Neville Longbottom. Katie Leung plays Harry's love interest, Cho Chang. Robert Hardy plays the Minister for Magic, Cornelius Fudge. Harry Melling plays Harry's cousin, Dudley Dursley.\n",
      "Evanna Lynch joins the cast as Ravenclaw student Luna Lovegood. Timothy Bateson voices house-elf, Kreacher and Tony Maudsley plays Hagrid's half-brother, Grawp. Kathryn Hunter plays the Dursley's neighbour,\n",
      "------------------------------------------------------------------------------------------------------------------------\n",
      "Score:  0.912933349609375\n",
      " Weasley: Ron's younger sister and Harry's love interest.\n",
      "Matthew Lewis as Neville Longbottom: A schoolfriend and strong supporter of Harry Potter.\n",
      "Evanna Lynch as Luna Lovegood: A seemingly dotty schoolfriend of Harry, who provides wise counsel at key moments.In the book, a significant number of characters who have not appeared since some of the earlier novels reappear to defend Hogwarts in the large, final battle. Director David Yates stated, \"I want to get them all back\", referring to his desire to bring back as many actors who have appeared in the franchise as possible for that climactic battle sequence in the film. Resultantly, several actors reprise their roles from previous Harry Potter films including Sean Biggerstaff as Oliver Wood, Jim Broadbent as Horace Slughorn, Gemma Jones as Poppy Pomfrey, Miriam Margolyes as Pomona Sprout, and Emma Thompson as Sybill Trelawney. \n",
      "The roles of several minor characters were recast or replaced for this film. For example, Ciarán Hinds assumed the role of Aberforth Dumbledore, Albus Dumbledore's brother and bartender of the Hog's Head inn. For the final scene in the film which is set nineteen years after the film's main story, the actors playing the main characters were made to look older through the use of makeup and special effects. After the initial look of the actors' aged appearances leaked onto the Internet, some fans reacted by opining that Radcliffe and Grint looked too old, while Watson did not appear significantly different at all. After primary filming concluded in June 2010, Yates examined the footage, and concluded that the problem could not be resolved through editing or CGI, and had the sequence re-shot that December, with redesigned makeup.\n",
      "\n",
      "\n",
      "== Production ==\n",
      "\n",
      "\n",
      "=== Filming ===\n",
      "Part 2 was filmed back-to-back with Harry Potter and the Deathly Hallows – Part 1 from 19 February 2009 to 12 June 2010, with reshoots for the epilogue scene taking place at Leavesden Film Studios on 21 December 2010. Yates, who shot the film with director of photography Eduardo Serra, described Part 2 as \"operatic, colourful and fantasy-oriented\", a \"big opera with huge battles\".Originally set for a single theatrical release, the idea to split the book into two parts was suggested by executive producer Lionel Wigram due to, what David Heyman called, \"creative imperative\". Heyman initially responded negatively to the idea, but\n",
      "\n",
      "\n",
      "\n",
      "Answer is : \n",
      "The actors who appeared in all eight Harry Potter films and their characters are:\n",
      "\n",
      "1. Daniel Radcliffe as Harry Potter: The main protagonist of the series.\n",
      "2. Rupert Grint as Ron Weasley: Harry's best friend and a member of the Weasley family.\n",
      "3. Emma Watson as Hermione Granger: Harry's other best friend, known for her intelligence and resourcefulness.\n",
      "4. Tom Felton as Draco Malfoy: Harry's rival and a student in Slytherin House.\n",
      "5. Matthew Lewis as Neville Longbottom: A Gryffindor student and close friend of Harry, Ron, and Hermione.\n",
      "6. Bonnie Wright as Ginny Weasley: Ron's younger sister and Harry's love interest.\n",
      "7. James and Oliver Phelps as Fred and George Weasley: Ron's twin brothers, known for their mischievous behavior.\n",
      "8. Alan Rickman as Severus Snape: The Potions teacher at Hogwarts and head of Slytherin House.\n",
      "9. Maggie Smith as Minerva McGonagall: Deputy Headmistress of Hogwarts, the Transfiguration teacher, and head of Gryffindor House.\n",
      "10. Robbie Coltrane as Rubeus Hagrid: The gamekeeper and Care of Magical Creatures teacher at Hogwarts.\n",
      "11. Julie Walters as Molly Weasley: Ron's mother and a mother figure to Harry.\n",
      "12. Mark Williams as Arthur Weasley: Ron's father, a worker at the Ministry of Magic.\n",
      "13. David Bradley as Argus Filch: The caretaker of Hogwarts.\n",
      "14. Warwick Davis as Filius Flitwick: The Charms master and head of Ravenclaw House. (Warwick Davis also played Griphook in the final films, but Griphook was not present in all eight movies.)\n",
      "\n",
      "These actors and their characters were integral to the Harry Potter film series, appearing throughout the saga from \"Harry Potter and the Philosopher's Stone\" to \"Harry Potter and the Deathly Hallows – Part 2.\"\n"
     ]
    }
   ],
   "source": [
    "print(qna(question=\"Which actors appeared in all eight Harry Potter films, and who are their characters?\",k=10))"
   ]
  },
  {
   "cell_type": "markdown",
   "metadata": {},
   "source": [
    "#### Harry Potter: 10 Supporting Characters Who Appear Most Frequently In The Movies\n",
    "\n",
    "\n",
    "<img src=\"img/Minerva%20McGonagal.png\" width=\"500\"/>\n",
    "\n",
    "\n",
    "\n",
    "ref : https://screenrant.com/harry-potter-supporting-characters-appearance-frequency-ranked/#minerva-mcgonagall"
   ]
  },
  {
   "cell_type": "markdown",
   "metadata": {},
   "source": [
    "## Graph model\n",
    "\n",
    "<img src=\"img/graph_model.png\" width=\"800\"/>"
   ]
  },
  {
   "cell_type": "markdown",
   "metadata": {},
   "source": [
    "##### Let's try another RAG strategy to improve its accuracy"
   ]
  },
  {
   "cell_type": "code",
   "execution_count": 20,
   "metadata": {},
   "outputs": [],
   "source": [
    "def qna_child(question,k):\n",
    "    template = \"\"\"You are a helpful assistant. Your task is to answer the question using only the provided document.\n",
    "    {context}\n",
    "\n",
    "    Question: {question}\n",
    "    Answer:\n",
    "    \"\"\"\n",
    "    prompt = PromptTemplate(\n",
    "    template=template,\n",
    "    input_variables=[\n",
    "        'context',\n",
    "        'question',\n",
    "    ]\n",
    ")\n",
    "    child_store = Neo4jVector.from_existing_index(\n",
    "    OpenAIEmbeddings(),\n",
    "    url=os.getenv('NEO4J_URI'),\n",
    "    username=os.getenv('NEO4J_USER'),\n",
    "    password=os.getenv('NEO4J_PASSWORD'),\n",
    "    index_name=\"child_document\",\n",
    "\n",
    ")\n",
    "    vector_qa = RetrievalQA.from_chain_type(\n",
    "    llm=ChatOpenAI(temperature=0.0,model_name=os.getenv('OPENAI_MODEL')), chain_type=\"stuff\", retriever=child_store.as_retriever(search_kwargs={\"k\":k}),chain_type_kwargs={\n",
    "        \"prompt\": prompt\n",
    "    })\n",
    "    print(\"Document list : \")\n",
    "    do_similarity_search(child_store,question,k=k)\n",
    "    print(\"\\n\\n\\nAnswer is : \")\n",
    "    return vector_qa.run(question)"
   ]
  },
  {
   "cell_type": "code",
   "execution_count": 21,
   "metadata": {},
   "outputs": [
    {
     "name": "stdout",
     "output_type": "stream",
     "text": [
      "Document list : \n",
      "------------------------------------------------------------------------------------------------------------------------\n",
      "Score:  0.9349277019500732\n",
      ". The killing curse that Voldemort had cast towards Harry rebounded, destroying Voldemort's body and giving Harry his lightning-bolt scar. Hagrid then takes Harry to Diagon Alley for school supplies and gives him a pet snowy owl whom he names Hedwig. Harry buys a wand that is connected to Voldemort's own wand.\n",
      "At King's Cross station, Harry boards the Hogwarts Express train, and meets fellow students Ron Weasley and Hermione Granger during the journey. Arriving at Hogwarts, Harry also meets Draco\n",
      "------------------------------------------------------------------------------------------------------------------------\n",
      "Score:  0.9347399473190308\n",
      "\n",
      "Harry discovers that his used Potions textbook is filled with helpful notes and spells added by the \"Half-Blood Prince\". Using it, Harry excels in class, annoying Hermione and impressing Slughorn, who awards him a Liquid Luck potion. Ron makes the Gryffindor Quidditch team as Keeper and begins dating Lavender Brown, upsetting Hermione, who harbours feelings for him. Harry consoles Hermione while acknowledging his own feelings for Ginny Weasley. Harry spends the Christmas holidays with\n",
      "\n",
      "\n",
      "\n",
      "Answer is : \n",
      "Harry discovers he is a wizard when Hagrid tells him, \"Yer a wizard, Harry,\" as he takes him to Diagon Alley for school supplies.\n"
     ]
    }
   ],
   "source": [
    "print(qna_child(question=\"How does Harry Potter discover he is a wizard?\",k=2))"
   ]
  },
  {
   "cell_type": "code",
   "execution_count": 106,
   "metadata": {},
   "outputs": [
    {
     "name": "stdout",
     "output_type": "stream",
     "text": [
      "Document list : \n",
      "------------------------------------------------------------------------------------------------------------------------\n",
      "Score:  0.9349277019500732\n",
      ". The killing curse that Voldemort had cast towards Harry rebounded, destroying Voldemort's body and giving Harry his lightning-bolt scar. Hagrid then takes Harry to Diagon Alley for school supplies and gives him a pet snowy owl whom he names Hedwig. Harry buys a wand that is connected to Voldemort's own wand.\n",
      "At King's Cross station, Harry boards the Hogwarts Express train, and meets fellow students Ron Weasley and Hermione Granger during the journey. Arriving at Hogwarts, Harry also meets Draco\n",
      "------------------------------------------------------------------------------------------------------------------------\n",
      "Score:  0.9347399473190308\n",
      "\n",
      "Harry discovers that his used Potions textbook is filled with helpful notes and spells added by the \"Half-Blood Prince\". Using it, Harry excels in class, annoying Hermione and impressing Slughorn, who awards him a Liquid Luck potion. Ron makes the Gryffindor Quidditch team as Keeper and begins dating Lavender Brown, upsetting Hermione, who harbours feelings for him. Harry consoles Hermione while acknowledging his own feelings for Ginny Weasley. Harry spends the Christmas holidays with\n",
      "------------------------------------------------------------------------------------------------------------------------\n",
      "Score:  0.934551477432251\n",
      ", at Borgin & Burke's. Harry believes Draco is now a Death Eater, but Ron and Hermione are sceptical. On the Hogwarts Express, Harry sneaks into the Slytherin carriage wearing his Invisibility Cloak to spy on Malfoy. Malfoy notices and petrifies Harry, leaving him on the train.  Luna Lovegood finds him and counters Draco's spell.\n",
      "Harry discovers that his used Potions textbook is filled with helpful notes and spells added by the \"Half-Blood Prince\n",
      "------------------------------------------------------------------------------------------------------------------------\n",
      "Score:  0.9284010529518127\n",
      ", just before Harry's eleventh birthday, owls begin delivering letters addressed to him. When the abusive Dursleys adamantly refuse to allow Harry to open any and flee to an island hut, Hagrid arrives to personally deliver Harry's letter of acceptance to Hogwarts. Hagrid also reveals that Harry's parents, James and Lily, were killed by a dark wizard named Lord Voldemort. The killing curse that Voldemort had cast towards Harry rebounded, destroying Voldemort's body and giving Harry his lightning-bolt\n",
      "------------------------------------------------------------------------------------------------------------------------\n",
      "Score:  0.9272294044494629\n",
      "-signing by Gilderoy Lockhart, Hogwarts' new Defence Against the Dark Arts teacher. There, Harry sees Draco Malfoy's father, Lucius, slip a book into Ginny Weasley's cauldron. After being blocked from entering Platform Nine and Three-Quarters at King's Cross railway station, Harry and Ron take the car to Hogwarts. There, they crash into the Whomping Willow, breaking Ron's wand, and receive detention.\n",
      "In detention, Harry hears a strange voice and\n",
      "------------------------------------------------------------------------------------------------------------------------\n",
      "Score:  0.9258264303207397\n",
      "anced himself from Harry. As Umbridge gains more control over the school, Ron and Hermione help Harry form \"Dumbledore's Army\", a secret group to teach students defensive spells. Umbridge recruits Slytherins for an Inquisitorial Squad to spy on the other students. Meanwhile, Harry and Cho Chang develop romantic feelings for each other.\n",
      "One night, Harry envisions Arthur Weasley being attacked at the Ministry, seeing it from the attacker's perspective. Concerned that Voldemort will exploit this connection to Harry\n",
      "\n",
      "\n",
      "\n",
      "Answer is : \n",
      "Harry Potter discovers he is a wizard when Hagrid arrives to personally deliver Harry's letter of acceptance to Hogwarts, after the Dursleys had refused to let him read the letters that were being delivered by owls.\n"
     ]
    }
   ],
   "source": [
    "print(qna_child(question=\"How does Harry Potter discover he is a wizard?\",k=6))"
   ]
  },
  {
   "cell_type": "code",
   "execution_count": 107,
   "metadata": {},
   "outputs": [
    {
     "name": "stdout",
     "output_type": "stream",
     "text": [
      "Document list : \n",
      "------------------------------------------------------------------------------------------------------------------------\n",
      "Score:  0.9424055814743042\n",
      "Harry Potter and the Philosopher's Stone (also known as Harry Potter and the Sorcerer's Stone) is a 2001 fantasy film directed by Chris Columbus and produced by David Heyman, from a screenplay by Steve Kloves, based on the 1997 novel of the same name by J. K. Rowling. It is the first instalment in the Harry Potter film series. The film stars Daniel Radcliffe as Harry Potter, with Rupert Grint as Ron Weasley, and Emma Watson as Hermione Granger. Its\n",
      "------------------------------------------------------------------------------------------------------------------------\n",
      "Score:  0.9423733949661255\n",
      " stars Daniel Radcliffe as Harry Potter, with Rupert Grint as Ron Weasley, and Emma Watson as Hermione Granger. Its story follows Harry's first year at Hogwarts School of Witchcraft and Wizardry as he discovers that he is a famous wizard and begins his formal wizarding education.\n",
      "Warner Bros. Pictures bought the film rights to the book in 1999 for a reported £1 million ($1.65 million). Production began in the United Kingdom in 2000, with Columbus being chosen to helm the film\n",
      "\n",
      "\n",
      "\n",
      "Answer is : \n",
      "'Harry Potter and the Philosopher's Stone' was released in 2001. The roles of Harry Potter, Ron Weasley, and Hermione Granger were played by Daniel Radcliffe, Rupert Grint, and Emma Watson, respectively.\n"
     ]
    }
   ],
   "source": [
    "print(qna_child(question=\"What year was 'Harry Potter and the Philosopher's Stone' released, and which actors played the roles of Harry Potter, Ron Weasley, and Hermione Granger?\",k=2))"
   ]
  },
  {
   "cell_type": "code",
   "execution_count": 22,
   "metadata": {},
   "outputs": [
    {
     "name": "stdout",
     "output_type": "stream",
     "text": [
      "Document list : \n",
      "------------------------------------------------------------------------------------------------------------------------\n",
      "Score:  0.9264693856239319\n",
      ".Several actors from the previous film reprise their roles in Goblet of Fire. James and Oliver Phelps play Fred and George Weasley, Ron's twin brothers, and Bonnie Wright as their sister Ginny, while Mark Williams plays their father, Arthur Weasley. Tom Felton portrays Lucius Malfoy's son Draco, Harry's rival in Slytherin, while Jamie Waylett and Joshua Herdman appear as Crabbe and Goyle, Draco's minions. Matthew Lewis, Devon Murray and Alfred Enoch play Neville\n",
      "------------------------------------------------------------------------------------------------------------------------\n",
      "Score:  0.9264634847640991\n",
      "\n",
      "\n",
      "Daniel Radcliffe as Harry Potter: A 17-year-old British wizard.\n",
      "Rupert Grint as Ron Weasley: One of Harry's best friends.\n",
      "Emma Watson as Hermione Granger: Harry's other best friend.\n",
      "Helena Bonham Carter as Bellatrix Lestrange: A Death Eater and Sirius Black's cousin and murderer.\n",
      "Robbie Coltrane as Rubeus Hagrid: Harry's half-giant friend and a former member of staff at\n",
      "------------------------------------------------------------------------------------------------------------------------\n",
      "Score:  0.9263619184494019\n",
      "ear to defend Hogwarts in the large, final battle. Director David Yates stated, \"I want to get them all back\", referring to his desire to bring back as many actors who have appeared in the franchise as possible for that climactic battle sequence in the film. Resultantly, several actors reprise their roles from previous Harry Potter films including Sean Biggerstaff as Oliver Wood, Jim Broadbent as Horace Slughorn, Gemma Jones as Poppy Pomfrey, Miriam Margoly\n",
      "------------------------------------------------------------------------------------------------------------------------\n",
      "Score:  0.9256967306137085\n",
      "Alan Rickman as Severus Snape: The Potions Master and head of Slytherin House.\n",
      "Fiona Shaw as Petunia Dursley: Harry's Muggle aunt.\n",
      "Maggie Smith as Minerva McGonagall: The Deputy Headmistress, head of Gryffindor and transfiguration teacher at Hogwarts. Smith was one of the two actors Rowling wanted most, along with Coltrane as Hagrid.\n",
      "Julie Walters as Molly Weasley: Ron's mother. She\n",
      "------------------------------------------------------------------------------------------------------------------------\n",
      "Score:  0.9249827265739441\n",
      "uyce; and David Holmes, David Massam, and Tony Christian appear as Slytherin quidditch players. Gemma Padley appears as \tPenelope Clearwater, a Ravenclaw student and Percy's girlfriend.\tLuke Youngblood plays Lee Jordan, the Quidditch comentator.\n",
      "Christian Coulson appears as Tom Marvolo Riddle, a manifestation of young Lord \tVoldemort. Mark Williams portrays Arthur Weasley, Ron's father. Shirley Henderson plays Moaning\n",
      "------------------------------------------------------------------------------------------------------------------------\n",
      "Score:  0.9240060448646545\n",
      " and the eighth and final instalment in the Harry Potter film series. The story concludes Harry Potter's quest to find and destroy Lord Voldemort's Horcruxes in order to stop him once and for all.\n",
      "The film stars an ensemble cast consisting of Daniel Radcliffe as Harry Potter, and Rupert Grint and Emma Watson as Harry's best friends, Ron Weasley and Hermione Granger, alongside Helena Bonham Carter, Robbie Coltrane, Warwick Davis, Ralph Fiennes, Michael Gambon, John\n",
      "------------------------------------------------------------------------------------------------------------------------\n",
      "Score:  0.9238728284835815\n",
      "alia Tena plays fellow member Nymphadora Tonks. James and Oliver Phelps play Ron's siblings Fred and George and Bonnie Wright plays their sister Ginny, while Devon Murray, Alfred Enoch and Matthew Lewis play Gryffindor students Seamus Finnigan, Dean Thomas and Neville Longbottom. Evanna Lynch and Katie Leung play Ravenclaw students Luna Lovegood and Cho Chang. Jamie Waylett and Joshua Herdman play Slytherin students Vincent Crabbe and Gregory Goyle. Jessie\n",
      "------------------------------------------------------------------------------------------------------------------------\n",
      "Score:  0.9229073524475098\n",
      "Emma Watson as Hermione Granger: A young witch and one of Harry's best friends and allies.\n",
      "Bonnie Wright as Ginny Weasley: Ron's younger sister and Harry's love interest.\n",
      "Helena Bonham Carter as Bellatrix Lestrange: A Death Eater, Sirius Black's insane cousin and murderer, and the aunt of Draco.\n",
      "Robbie Coltrane as Rubeus Hagrid: Harry's half-giant friend, and gamekeeper at Hogwarts.\n",
      "Warwick\n",
      "------------------------------------------------------------------------------------------------------------------------\n",
      "Score:  0.9218879342079163\n",
      "man appear as Crabbe and Goyle, Draco's minions. Matthew Lewis, Devon Murray and Alfred Enoch play Neville Longbottom, Seamus Finnigan and Dean Thomas respectively, three Gryffindor students in Harry's year. David Bradley appears as Argus Filch,\n",
      "------------------------------------------------------------------------------------------------------------------------\n",
      "Score:  0.9212340116500854\n",
      "ry.\n",
      "Rupert Grint as Ron Weasley: Harry's best friend at Hogwarts and a younger member of the Weasley wizarding family.\n",
      "Emma Watson as Hermione Granger: Harry's other best friend and the trio's brains.\n",
      "Robbie Coltrane as Rubeus Hagrid: The gamekeeper and new Care of Magical Creatures teacher at Hogwarts.\n",
      "Michael Gambon as Albus Dumbledore:The headmaster of Hogwarts and one of the greatest wizards of all time. Gambon assumed\n",
      "\n",
      "\n",
      "\n",
      "Answer is : \n",
      "The actors who appeared in all eight Harry Potter films and their characters are:\n",
      "\n",
      "1. Daniel Radcliffe as Harry Potter\n",
      "2. Rupert Grint as Ron Weasley\n",
      "3. Emma Watson as Hermione Granger\n",
      "4. Bonnie Wright as Ginny Weasley\n",
      "5. Tom Felton as Draco Malfoy\n",
      "6. Matthew Lewis as Neville Longbottom\n",
      "7. James Phelps as Fred Weasley\n",
      "8. Oliver Phelps as George Weasley\n",
      "9. Alan Rickman as Severus Snape\n",
      "10. Robbie Coltrane as Rubeus Hagrid\n",
      "11. Maggie Smith as Minerva McGonagall\n",
      "12. Julie Walters as Molly Weasley\n"
     ]
    }
   ],
   "source": [
    "print(qna_child(question=\"Which actors appeared in all eight Harry Potter films, and who are their characters?\",k=10))"
   ]
  },
  {
   "cell_type": "markdown",
   "metadata": {},
   "source": [
    "#### Summary content"
   ]
  },
  {
   "cell_type": "code",
   "execution_count": 23,
   "metadata": {},
   "outputs": [
    {
     "name": "stdout",
     "output_type": "stream",
     "text": [
      "Document list : \n",
      "------------------------------------------------------------------------------------------------------------------------\n",
      "Score:  0.9441704750061035\n",
      "Harry Potter and the Order of the Phoenix is a 2007 fantasy film directed by David Yates from a screenplay by Michael Goldenberg, based on the 2003 novel of the same name by J. K. Rowling. It is the sequel to Harry Potter and the Goblet of Fire (2005) and the fifth instalment in the Harry Potter film series. The film stars Daniel Radcliffe as Harry Potter, alongside Rupert Grint and Emma Watson as Harry's best friends Ron Weasley and Hermione Granger. Its story follows Harry's fifth year at Hogwarts School of Witchcraft and Wizardry as the Ministry of Magic is in denial of Lord Voldemort's return.\n",
      "Filming took place in England and Scotland for exterior locations and Leavesden Film Studios in Watford for interior locations from February to November 2006, with a one-month break in June. Post-production on the film continued for several months afterwards to add in visual effects. The film's budget was reportedly between £75 and 100 million ($150–200 million).Harry Potter and the Order of the Phoenix was released in 2D cinemas and IMAX formats in the United States on 11 July 2007 and in the United Kingdom on 12 July, by Warner Bros. Pictures. The film received generally positive reviews from critics and was nominated for many awards, including the BAFTA Award for Best Production Design and Special Visual Effects. With a worldwide five-day opening of $333 million and a total gross of $942 million, making it the second-highest-grossing film of 2007, the film was noted as a case of Hollywood accounting, as Warner Bros. claimed that it lost $167 million despite the total gross.\n",
      "A sequel, Harry Potter and the Half-Blood Prince, was released in 2009.\n",
      "\n",
      "\n",
      "== Plot ==\n",
      "While staying at the Dursleys', Harry Potter and Dudley are attacked by Dementors. Harry repels them using a Patronus spell. The Ministry of Magic detects the underaged Harry using magic and expels him from Hogwarts, though he is later exonerated.\n",
      "The Order of the Phoenix, a secret organisation, founded by Albus Dumbledore, informs Harry that the Ministry of Magic is attempting to stonewall rumors about Lord Voldemort's return. At the Order's headquarters, Harry's godfather, Sirius Black, mentions that Voldemort seeks an object he previously lacked; Harry believes it to be a weapon.\n",
      "Minister for Magic Cornelius Fudge has appointed Dolores Umbridge as Hogwarts new Defence Against the Dark Arts professor. Umbridge's refusal to teach defensive\n",
      "------------------------------------------------------------------------------------------------------------------------\n",
      "Score:  0.9394606351852417\n",
      " fully advance the emotional sides of their respective characters, weakening the film. The San Francisco Chronicle complained about a \"lousy\" storyline, alleging that the first twenty minutes of the film, when Harry is put on trial for performing magic outside of school and threatened with expulsion, but is cleared of all charges, did not advance the plot. Kirk Honeycutt of The Hollywood Reporter wrote that Phoenix is \"quite possibly the least enjoyable of the [series] so far\", and that despite \"several eye-catching moments\", \"the magic – movie magic, that is – is mostly missing\". The review also criticised the under use of the \"cream of British acting\", noting the brief appearances of Helena Bonham Carter, Maggie Smith, Emma Thompson, David Thewlis, Richard Griffiths, and Julie Walters.\n",
      "\n",
      "\n",
      "=== Accolades ===\n",
      "Before it was released, Order of the Phoenix was nominated in a new category at the 2007 MTV Movie Awards, Best Summer Movie You Haven't Seen Yet. On 26 August 2007, the film won the award for Choice Summer Movie – Drama/Action Adventure at the Teen Choice Awards.The film was also nominated for several awards at the 2007 Scream Awards presented by Spike TV, in the categories of The Ultimate Scream, Best Fantasy Movie, and Best Sequel. Daniel Radcliffe was nominated in the Fantasy Hero categories, respectively. The film won for Best Sequel and Ralph Fiennes won for \"Most Vile Villain\". The film picked up three awards at the inaugural ITV National Movie Awards, taking Best Family Film, Best Actor for Radcliffe and Best Actress for Emma Watson. The film was one of ten nominees for a 2007 Hollywood Movie of the Year. It was also nominated for Best Live Action Family Film at the Broadcast Film Critics Association Awards and won the 2007 People's Choice Award for \"Favorite Movie Drama\". The production was also nominated for six awards at the 13th Empire Awards, organised by Empire, including Best Film, David Yates won Best Director. Yates later received the BAFTA Britannia Award for Artistic Excellence in Directing for his four Harry Potter films, which includes Order of the Phoenix.Nicholas Hooper received a nomination for a World Soundtrack Discovery Award for his score to the film. Imelda Staunton was nominated in the \"British Actress in a Supporting Role\" category at the London Film Critics Circle Awards. At the 2008 BAFTA Awards, the film was nominated for \"Best Production Design\" and \"Best Special Visual Effects\". Order of the Phoenix was also nominated for the\n",
      "\n",
      "\n",
      "\n",
      "Answer is : \n",
      "While staying with the Dursleys, Harry Potter and his cousin Dudley are attacked by Dementors. Harry uses a Patronus spell to repel them but is then expelled from Hogwarts for using magic outside of school as an underage wizard. However, he is later exonerated. The Order of the Phoenix, a secret organization founded by Albus Dumbledore, informs Harry that the Ministry of Magic is denying Lord Voldemort's return. At the Order's headquarters, Harry learns that Voldemort seeks an object he did not have before, which Harry believes to be a weapon. Cornelius Fudge, the Minister for Magic, appoints Dolores Umbridge as the new Defence Against the Dark Arts professor at Hogwarts, who refuses to teach practical defensive magic.\n"
     ]
    }
   ],
   "source": [
    "print(qna(\"summarise plot of Harry Potter and the Order of the Phoenix\",2))"
   ]
  },
  {
   "cell_type": "code",
   "execution_count": 110,
   "metadata": {},
   "outputs": [
    {
     "name": "stdout",
     "output_type": "stream",
     "text": [
      "Document list : \n",
      "------------------------------------------------------------------------------------------------------------------------\n",
      "Score:  0.9396058320999146\n",
      "Harry Potter and the Order of the Phoenix is a 2007 fantasy film directed by David Yates from a screenplay by Michael Goldenberg, based on the 2003 novel of the same name by J. K. Rowling. It is the sequel to Harry Potter and the Goblet of Fire (2005) and the fifth instalment in the Harry Potter film series. The film stars Daniel Radcliffe as Harry Potter, alongside Rupert Grint and Emma Watson as Harry's best friends Ron Weasley and Hermione Granger. Its story\n",
      "------------------------------------------------------------------------------------------------------------------------\n",
      "Score:  0.9320425987243652\n",
      " coming into his own in the same way that Harry is, we tried to get that into the film in other ways, as much as possible. So, you feel like, if not the details of that story, at least the spirit of it is present in the film\". The\n",
      "\n",
      "\n",
      "\n",
      "Answer is : \n",
      "I'm sorry, but the provided text does not contain information about the plot of \"Harry Potter and the Order of the Phoenix.\"\n"
     ]
    }
   ],
   "source": [
    "print(qna_child(\"summarise plot of Harry Potter and the Order of the Phoenix\",2))"
   ]
  },
  {
   "cell_type": "code",
   "execution_count": null,
   "metadata": {},
   "outputs": [],
   "source": []
  },
  {
   "cell_type": "markdown",
   "metadata": {},
   "source": [
    "## Filter before sending the context to the LLM."
   ]
  },
  {
   "cell_type": "code",
   "execution_count": 134,
   "metadata": {},
   "outputs": [],
   "source": [
    "def qna_child_filter(question,k):\n",
    "    template = \"\"\"You are a helpful assistant. Your task is to answer the question using only the provided document.\n",
    "    {context}\n",
    "\n",
    "    Question: {question}\n",
    "    Answer:\n",
    "    \"\"\"\n",
    "    prompt = PromptTemplate(\n",
    "    template=template,\n",
    "    input_variables=[\n",
    "        'context',\n",
    "        'question',\n",
    "    ])\n",
    "    query = \"\"\"MATCH (node:Child)\n",
    "                where toLower(node.id) CONTAINS toLower(\"{}\")\n",
    "                WITH node as node,max(score) as score\n",
    "                RETURN node.text AS text,\n",
    "                score,\n",
    "                node {{.*, embedding: Null}} AS metadata \"\"\".format(\"Harry Potter and the Philosopher's Stone\")\n",
    "\n",
    "    child_store = Neo4jVector.from_existing_index(\n",
    "    OpenAIEmbeddings(),\n",
    "    url=os.getenv('NEO4J_URI'),\n",
    "    username=os.getenv('NEO4J_USER'),\n",
    "    password=os.getenv('NEO4J_PASSWORD'),\n",
    "    index_name=\"child_document\",\n",
    "    retrieval_query=query\n",
    "    )\n",
    "    vector_qa = RetrievalQA.from_chain_type(\n",
    "    llm=ChatOpenAI(temperature=0.0,model_name=os.getenv('OPENAI_MODEL')), chain_type=\"stuff\", retriever=child_store.as_retriever(search_kwargs={\"k\":k}),chain_type_kwargs={\n",
    "        \"prompt\": prompt\n",
    "    })\n",
    "\n",
    "\n",
    "\n",
    "    print(\"Document list : \")\n",
    "    do_similarity_search(child_store,question,k=k)\n",
    "    print(\"\\n\\n\\nAnswer is : \")\n",
    "    return vector_qa.run(question)"
   ]
  },
  {
   "cell_type": "code",
   "execution_count": 136,
   "metadata": {},
   "outputs": [
    {
     "name": "stdout",
     "output_type": "stream",
     "text": [
      "Document list : \n",
      "------------------------------------------------------------------------------------------------------------------------\n",
      "Score:  0.9423828721046448\n",
      "Harry Potter and the Philosopher's Stone (also known as Harry Potter and the Sorcerer's Stone) is a 2001 fantasy film directed by Chris Columbus and produced by David Heyman, from a screenplay by Steve Kloves, based on the 1997 novel of the same name by J. K. Rowling. It is the first instalment in the Harry Potter film series. The film stars Daniel Radcliffe as Harry Potter, with Rupert Grint as Ron Weasley, and Emma Watson as Hermione Granger. Its\n",
      "------------------------------------------------------------------------------------------------------------------------\n",
      "Score:  0.9423558115959167\n",
      " stars Daniel Radcliffe as Harry Potter, with Rupert Grint as Ron Weasley, and Emma Watson as Hermione Granger. Its story follows Harry's first year at Hogwarts School of Witchcraft and Wizardry as he discovers that he is a famous wizard and begins his formal wizarding education.\n",
      "Warner Bros. Pictures bought the film rights to the book in 1999 for a reported £1 million ($1.65 million). Production began in the United Kingdom in 2000, with Columbus being chosen to helm the film\n",
      "------------------------------------------------------------------------------------------------------------------------\n",
      "Score:  0.9352919459342957\n",
      ". I know you're gonna say Ron. But he said 'Hermione.' And I just kind of melted.\" Rowling received a large amount of creative control, an arrangement that Columbus did not mind.\n",
      "Warner Bros. had initially planned to release the film over 4 July 2001 weekend, making for such a short production window that several proposed directors pulled themselves out of the running. Due to time constraints, the date was put back to 16 November 2001.\n",
      "\n",
      "\n",
      "=== Casting ===\n",
      "Rowling insisted\n",
      "------------------------------------------------------------------------------------------------------------------------\n",
      "Score:  0.9335935115814209\n",
      " determined to maintain. On 21 August 2000, Daniel Radcliffe and newcomers Rupert Grint and Emma Watson were selected to play Harry Potter, Ron Weasley and Hermione Granger, respectively. \tTom Felton, Liam Aiken, and William Moseley, who was later cast as\n",
      "------------------------------------------------------------------------------------------------------------------------\n",
      "Score:  0.9305026531219482\n",
      " Daniel Radcliffe as Harry Potter, alongside Rupert Grint and Emma Watson as Harry's best friends Ron Weasley and Hermione Granger respectively. Its story follows Harry's fourth year at Hogwarts as he is chosen by the Goblet of Fire to compete in the Triwizard Tournament.\n",
      "Principal photography began in early 2004, and the film premiered worldwide on 18 November 2005. Five days following release, it had earned over US$102 million at the North American box office, the third-highest first-week\n",
      "------------------------------------------------------------------------------------------------------------------------\n",
      "Score:  0.9300065040588379\n",
      " The film stars Daniel Radcliffe as Harry Potter, with Rupert Grint and Emma Watson as his best friends Ron Weasley and Hermione Granger respectively. The story follows Harry's second year at Hogwarts School of Witchcraft and Wizardry, where the Heir of Salazar Slytherin opens the Chamber of Secrets, unleashing a monster that petrifies the school's students.\n",
      "The film was released in the United Kingdom and the United States on 15 November 2002, by Warner Bros. Pictures. Critics praised\n",
      "------------------------------------------------------------------------------------------------------------------------\n",
      "Score:  0.929147481918335\n",
      " Harry Potter, alongside Rupert Grint and Emma Watson as Harry's best friends Ron Weasley and Hermione Granger respectively. The story follows Harry's sixth year at Hogwarts as he receives a mysterious textbook, falls in love, and attempts to retrieve a memory that holds the key to Lord Voldemort's downfall.\n",
      "Filming began on 24 September 2007, leading to the film's worldwide cinematic release on 15 July 2009. With an estimated budget of $250 million, it is one of the most expensive films ever made and\n",
      "------------------------------------------------------------------------------------------------------------------------\n",
      "Score:  0.9261335134506226\n",
      " the United Kingdom from September 2000 to March 2001.\n",
      "Harry Potter and the Philosopher's Stone was released to cinemas in the United Kingdom and Ireland on 10 and 11 November 2001 for two days of previews. The film opened on 16 November in the United States, Canada, and Taiwan as well as officially in the United Kingdom and Ireland. It became a critical and commercial success, grossing $974 million at the worldwide box office during its initial run, and over $1 billion with subsequent re\n",
      "------------------------------------------------------------------------------------------------------------------------\n",
      "Score:  0.9261317253112793\n",
      "\n",
      "\n",
      "Daniel Radcliffe as Harry Potter: A 17-year-old British wizard.\n",
      "Rupert Grint as Ron Weasley: One of Harry's best friends.\n",
      "Emma Watson as Hermione Granger: Harry's other best friend.\n",
      "Helena Bonham Carter as Bellatrix Lestrange: A Death Eater and Sirius Black's cousin and murderer.\n",
      "Robbie Coltrane as Rubeus Hagrid: Harry's half-giant friend and a former member of staff at\n",
      "------------------------------------------------------------------------------------------------------------------------\n",
      "Score:  0.9256412982940674\n",
      " million ($1.65 million). Production began in the United Kingdom in 2000, with Columbus being chosen to helm the film from a short list of directors that included Steven Spielberg and Rob Reiner. Rowling insisted that the entire cast be British and Irish, with the three leads chosen in August 2000 following open casting calls. Filming took place at Leavesden Film Studios and historic buildings around the United Kingdom from September 2000 to March 2001.\n",
      "Harry Potter and the Philosopher's Stone was released to cinemas\n",
      "\n",
      "\n",
      "\n",
      "Answer is : \n",
      "'Harry Potter and the Philosopher's Stone' was released in 2001. The actors who played the roles were Daniel Radcliffe as Harry Potter, Rupert Grint as Ron Weasley, and Emma Watson as Hermione Granger.\n"
     ]
    }
   ],
   "source": [
    "print(qna_child(question=\"What year was 'Harry Potter and the Philosopher's Stone' released, and which actors played the roles of Harry Potter, Ron Weasley, and Hermione Granger?\",k=10))"
   ]
  },
  {
   "cell_type": "code",
   "execution_count": 137,
   "metadata": {},
   "outputs": [
    {
     "name": "stdout",
     "output_type": "stream",
     "text": [
      "Document list : \n",
      "------------------------------------------------------------------------------------------------------------------------\n",
      "Score:  0.9423828721046448\n",
      "Harry Potter and the Philosopher's Stone (also known as Harry Potter and the Sorcerer's Stone) is a 2001 fantasy film directed by Chris Columbus and produced by David Heyman, from a screenplay by Steve Kloves, based on the 1997 novel of the same name by J. K. Rowling. It is the first instalment in the Harry Potter film series. The film stars Daniel Radcliffe as Harry Potter, with Rupert Grint as Ron Weasley, and Emma Watson as Hermione Granger. Its\n",
      "------------------------------------------------------------------------------------------------------------------------\n",
      "Score:  0.9423558115959167\n",
      " stars Daniel Radcliffe as Harry Potter, with Rupert Grint as Ron Weasley, and Emma Watson as Hermione Granger. Its story follows Harry's first year at Hogwarts School of Witchcraft and Wizardry as he discovers that he is a famous wizard and begins his formal wizarding education.\n",
      "Warner Bros. Pictures bought the film rights to the book in 1999 for a reported £1 million ($1.65 million). Production began in the United Kingdom in 2000, with Columbus being chosen to helm the film\n",
      "------------------------------------------------------------------------------------------------------------------------\n",
      "Score:  0.9352919459342957\n",
      ". I know you're gonna say Ron. But he said 'Hermione.' And I just kind of melted.\" Rowling received a large amount of creative control, an arrangement that Columbus did not mind.\n",
      "Warner Bros. had initially planned to release the film over 4 July 2001 weekend, making for such a short production window that several proposed directors pulled themselves out of the running. Due to time constraints, the date was put back to 16 November 2001.\n",
      "\n",
      "\n",
      "=== Casting ===\n",
      "Rowling insisted\n",
      "------------------------------------------------------------------------------------------------------------------------\n",
      "Score:  0.9335935115814209\n",
      " determined to maintain. On 21 August 2000, Daniel Radcliffe and newcomers Rupert Grint and Emma Watson were selected to play Harry Potter, Ron Weasley and Hermione Granger, respectively. \tTom Felton, Liam Aiken, and William Moseley, who was later cast as\n",
      "------------------------------------------------------------------------------------------------------------------------\n",
      "Score:  0.9261335134506226\n",
      " the United Kingdom from September 2000 to March 2001.\n",
      "Harry Potter and the Philosopher's Stone was released to cinemas in the United Kingdom and Ireland on 10 and 11 November 2001 for two days of previews. The film opened on 16 November in the United States, Canada, and Taiwan as well as officially in the United Kingdom and Ireland. It became a critical and commercial success, grossing $974 million at the worldwide box office during its initial run, and over $1 billion with subsequent re\n",
      "------------------------------------------------------------------------------------------------------------------------\n",
      "Score:  0.9256412982940674\n",
      " million ($1.65 million). Production began in the United Kingdom in 2000, with Columbus being chosen to helm the film from a short list of directors that included Steven Spielberg and Rob Reiner. Rowling insisted that the entire cast be British and Irish, with the three leads chosen in August 2000 following open casting calls. Filming took place at Leavesden Film Studios and historic buildings around the United Kingdom from September 2000 to March 2001.\n",
      "Harry Potter and the Philosopher's Stone was released to cinemas\n",
      "\n",
      "\n",
      "\n",
      "Answer is : \n",
      "'Harry Potter and the Philosopher's Stone' was released in 2001. The actors who played the roles were Daniel Radcliffe as Harry Potter, Rupert Grint as Ron Weasley, and Emma Watson as Hermione Granger.\n"
     ]
    }
   ],
   "source": [
    "print(qna_child_filter(question=\"What year was 'Harry Potter and the Philosopher's Stone' released, and which actors played the roles of Harry Potter, Ron Weasley, and Hermione Granger?\",k=10))"
   ]
  },
  {
   "cell_type": "code",
   "execution_count": null,
   "metadata": {},
   "outputs": [],
   "source": []
  },
  {
   "cell_type": "code",
   "execution_count": 128,
   "metadata": {},
   "outputs": [
    {
     "name": "stdout",
     "output_type": "stream",
     "text": [
      "Document list from similarity search : \n",
      "------------------------------------------------------------------------------------------------------------------------\n",
      "Score:  1.0\n",
      " Phoenix for Best Feature Film in 2007 and the Hugo Awards nominated the film for Best Dramatic Presentation (Long Form) in 2008.\n",
      "\n",
      "\n",
      "== References ==\n",
      "\n",
      "\n",
      "== External links ==\n",
      "\n",
      "Official website\n",
      "Harry Potter and the Order of the Phoenix at IMDb\n",
      "Harry Potter and the Order of the Phoenix at AllMovie\n",
      "\n",
      "------------------------------------------------------------------------------------------------------------------------\n",
      "Score:  0.9396058320999146\n",
      "Harry Potter and the Order of the Phoenix is a 2007 fantasy film directed by David Yates from a screenplay by Michael Goldenberg, based on the 2003 novel of the same name by J. K. Rowling. It is the sequel to Harry Potter and the Goblet of Fire (2005) and the fifth instalment in the Harry Potter film series. The film stars Daniel Radcliffe as Harry Potter, alongside Rupert Grint and Emma Watson as Harry's best friends Ron Weasley and Hermione Granger. Its story\n",
      "------------------------------------------------------------------------------------------------------------------------\n",
      "Score:  0.9320425987243652\n",
      " coming into his own in the same way that Harry is, we tried to get that into the film in other ways, as much as possible. So, you feel like, if not the details of that story, at least the spirit of it is present in the film\". The\n",
      "************************************************************************************************************************\n",
      " Phoenix for Best Feature Film in 2007 and the Hugo Awards nominated the film for Best Dramatic Presentation (Long Form) in 2008.\n",
      "\n",
      "\n",
      "== References ==\n",
      "\n",
      "\n",
      "== External links ==\n",
      "\n",
      "Official website\n",
      "Harry Potter and the Order of the Phoenix at IMDb\n",
      "Harry Potter and the Order of the Phoenix at AllMovie\n",
      "\n",
      "------------------------------------------------------------------------------------------------------------------------\n",
      "Harry Potter and the Order of the Phoenix is a 2007 fantasy film directed by David Yates from a screenplay by Michael Goldenberg, based on the 2003 novel of the same name by J. K. Rowling. It is the sequel to Harry Potter and the Goblet of Fire (2005) and the fifth instalment in the Harry Potter film series. The film stars Daniel Radcliffe as Harry Potter, alongside Rupert Grint and Emma Watson as Harry's best friends Ron Weasley and Hermione Granger. Its story\n",
      "------------------------------------------------------------------------------------------------------------------------\n",
      "sley plays Hagrid's half-brother, Grawp. Kathryn Hunter plays the Dursley's neighbour, Mrs. Figg. George Harris and Natalia Tena play members of the Order of the Phoenix, Kingsley Shacklebolt and Nymphadora Tonks.\n",
      "\n",
      "\n",
      "== Production ==\n",
      "\n",
      "\n",
      "=== Development ===\n",
      "British television director David Yates was chosen to direct the film after Harry Potter and the Goblet of Fire director Mike Newell, as well as Jean-Pierre\n",
      "------------------------------------------------------------------------------------------------------------------------\n",
      " approval rating of 78% based on 256 reviews, with an average rating of 6.9/10. The site's critical consensus reads, \"It's not easy to take the longest Harry Potter book and streamline it into the shortest HP movie, but director David Yates does a bang up job of it, creating an Order of the Phoenix that's entertaining and action-packed.\" On Metacritic, the film has a score of 71 out of 100, based on 37 critics, indicating \"gener\n",
      "------------------------------------------------------------------------------------------------------------------------\n",
      " which played during a scene in the Gryffindor common room (at min. 31:35). According to Rupert Grint, David Yates used the song to create a more \"casual\" feel to the Common Room.\n",
      "\n",
      "\n",
      "== Differences from the book ==\n",
      "At 766 pages in the British edition and 870 in the American edition, Order of the Phoenix is the longest book in the Harry Potter series, however the film is the second shortest. Screenwriter Michael Goldenberg described his\n",
      "------------------------------------------------------------------------------------------------------------------------\n",
      " was nominated for \"Best Production Design\" and \"Best Special Visual Effects\". Order of the Phoenix was also nominated for the awards from the Art Directors Guild and Costume Designers Guild, and was awarded for \"Outstanding Special Effects in a Motion Picture\" by the Visual Effects Society out of six nominations.\n",
      "The British Academy Children's Awards (BAFTA) nominated Order of the Phoenix for Best Feature Film in 2007 and the Hugo Awards nominated the film for Best Dramatic Presentation (Long Form)\n",
      "------------------------------------------------------------------------------------------------------------------------\n",
      " February to November 2006, with a one-month break in June. Post-production on the film continued for several months afterwards to add in visual effects. The film's budget was reportedly between £75 and 100 million ($150–200 million).Harry Potter and the Order of the Phoenix was released in 2D cinemas and IMAX formats in the United States on 11 July 2007 and in the United Kingdom on 12 July, by Warner Bros. Pictures. The film received generally positive reviews from critics and\n",
      "------------------------------------------------------------------------------------------------------------------------\n",
      " Dumbledore explains he had distanced himself from Harry to prevent Voldemort exploiting their connection. He also reveals the prophecy. As he grieves Sirius's death, Harry tries coming to terms with the prophecy: \"Neither can live while the other survives.\"\n",
      "\n",
      "\n",
      "== Cast ==\n",
      "\n",
      "Mark Williams appears as Molly Weasley's husband, Arthur, a member of the Order of the Phoenix. Warwick Davis plays Filius Flitwick, the school's charms teacher, maestro and Head of Ravenclaw House\n",
      "------------------------------------------------------------------------------------------------------------------------\n",
      " using a Patronus spell. The Ministry of Magic detects the underaged Harry using magic and expels him from Hogwarts, though he is later exonerated.\n",
      "The Order of the Phoenix, a secret organisation, founded by Albus Dumbledore, informs Harry that the Ministry of Magic is attempting to stonewall rumors about Lord Voldemort's return. At the Order's headquarters, Harry's godfather, Sirius Black, mentions that Voldemort seeks an object he previously lacked; Harry believes it to be a weapon.\n",
      "------------------------------------------------------------------------------------------------------------------------\n",
      "aunton was nominated in the \"British Actress in a Supporting Role\" category at the London Film Critics Circle Awards. At the 2008 BAFTA Awards, the film was nominated for \"Best Production Design\" and \"Best Special Visual Effects\". Order of the Phoenix was also nominated for the\n",
      "------------------------------------------------------------------------------------------------------------------------\n",
      "\n",
      "\n",
      "\n",
      "Answer is : \n",
      "Harry Potter and the Order of the Phoenix follows Harry Potter in his fifth year at Hogwarts School of Witchcraft and Wizardry. The film explores Harry's struggles as he faces the return of the dark wizard Lord Voldemort, the skepticism of the wizarding community about Voldemort's return, and the oppressive regime of the new Defense Against the Dark Arts teacher, Dolores Umbridge. Alongside his friends Ron Weasley and Hermione Granger, Harry forms \"Dumbledore's Army,\" a group of students who secretly train in defensive magic to prepare for the looming threat of Voldemort and his followers, the Death Eaters. The film culminates in a battle at the Ministry of Magic, where the truth about Voldemort's return is finally revealed to the wizarding world.\n"
     ]
    }
   ],
   "source": [
    "print(qna_child_filter(\"summarise plot of Harry Potter and the Order of the Phoenix\",3))"
   ]
  },
  {
   "cell_type": "code",
   "execution_count": null,
   "metadata": {},
   "outputs": [],
   "source": []
  },
  {
   "cell_type": "code",
   "execution_count": null,
   "metadata": {},
   "outputs": [],
   "source": []
  }
 ],
 "metadata": {
  "kernelspec": {
   "display_name": "harry-potter-demo-M6hG0Rsr",
   "language": "python",
   "name": "python3"
  },
  "language_info": {
   "codemirror_mode": {
    "name": "ipython",
    "version": 3
   },
   "file_extension": ".py",
   "mimetype": "text/x-python",
   "name": "python",
   "nbconvert_exporter": "python",
   "pygments_lexer": "ipython3",
   "version": "3.9.6"
  }
 },
 "nbformat": 4,
 "nbformat_minor": 2
}
