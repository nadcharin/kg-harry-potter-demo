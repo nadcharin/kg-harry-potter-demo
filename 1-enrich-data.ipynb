{
 "cells": [
  {
   "cell_type": "code",
   "execution_count": 1,
   "metadata": {},
   "outputs": [
    {
     "name": "stderr",
     "output_type": "stream",
     "text": [
      "/Users/nadcharin/.local/share/virtualenvs/harry-potter-demo-M6hG0Rsr/lib/python3.9/site-packages/urllib3/__init__.py:34: NotOpenSSLWarning: urllib3 v2 only supports OpenSSL 1.1.1+, currently the 'ssl' module is compiled with 'LibreSSL 2.8.3'. See: https://github.com/urllib3/urllib3/issues/3020\n",
      "  warnings.warn(\n"
     ]
    }
   ],
   "source": [
    "from langchain import PromptTemplate\n",
    "from langchain.chat_models import ChatOpenAI\n",
    "from langchain.chains import LLMChain\n",
    "\n",
    "\n",
    "from pathlib import Path\n",
    "from typing import List\n",
    "\n",
    "from langchain.chains.openai_functions import create_structured_output_chain\n",
    "from langchain.chat_models import ChatOpenAI\n",
    "from langchain.document_loaders import TextLoader\n",
    "from langchain.docstore.document import Document\n",
    "from langchain.embeddings.openai import OpenAIEmbeddings\n",
    "from langchain.graphs import Neo4jGraph\n",
    "from langchain.prompts import ChatPromptTemplate\n",
    "from langchain.pydantic_v1 import BaseModel, Field\n",
    "from langchain.text_splitter import TokenTextSplitter\n",
    "from neo4j.exceptions import ClientError\n",
    "\n",
    "import os\n",
    "import glob\n",
    "import json\n",
    "import pandas as pd\n",
    "from pathlib import Path\n",
    "\n",
    "from typing import Any\n",
    "\n",
    "\n",
    "from dotenv import load_dotenv, find_dotenv\n",
    "_ = load_dotenv(find_dotenv())"
   ]
  },
  {
   "cell_type": "markdown",
   "metadata": {},
   "source": [
    "##### Define source text file"
   ]
  },
  {
   "cell_type": "code",
   "execution_count": 2,
   "metadata": {},
   "outputs": [
    {
     "data": {
      "text/plain": [
       "['data/Harry Potter and the Deathly Hallows – Part 1.txt',\n",
       " 'data/Harry Potter and the Deathly Hallows – Part 2.txt',\n",
       " 'data/Harry Potter and the Prisoner of Azkaban (film).txt',\n",
       " 'data/Harry Potter and the Goblet of Fire (film).txt',\n",
       " \"data/Harry Potter and the Philosopher's Stone (film).txt\",\n",
       " 'data/Harry Potter and the Order of the Phoenix (film).txt',\n",
       " 'data/Harry Potter and the Half-Blood Prince (film).txt',\n",
       " 'data/Harry Potter and the Chamber of Secrets (film).txt']"
      ]
     },
     "execution_count": 2,
     "metadata": {},
     "output_type": "execute_result"
    }
   ],
   "source": [
    "txt_files = glob.glob(\"data/*.txt\")\n",
    "txt_files"
   ]
  },
  {
   "cell_type": "markdown",
   "metadata": {},
   "source": [
    "##### graph model\n",
    "\n",
    "<img src=\"img/graph_model.png\" width=\"800\"/>"
   ]
  },
  {
   "cell_type": "markdown",
   "metadata": {},
   "source": [
    "##### Define a function to extract movie's information (structure information) from text files"
   ]
  },
  {
   "cell_type": "code",
   "execution_count": 3,
   "metadata": {},
   "outputs": [],
   "source": [
    "def get_movies_info(file_list: list,movie_df):\n",
    "    movies_template = \"\"\"given the article about Harry Potter movie {information} ,Carefully read the article, and I want you to create:\n",
    "         1. movie name\n",
    "         2. producer name\n",
    "         3. director name\n",
    "         4. release year\n",
    "         - NEVER Impute missing values.\n",
    "         - DO NOT MISS out any movie related information\n",
    "         - If you found multiple producer or director information, please return nested list of name\n",
    "         return information in json format with fields name 'movieName' , 'producerName','directorName','releaseYear'\n",
    "     \"\"\"\n",
    "    summary_movie_prompt_template = PromptTemplate(\n",
    "        input_variables=[\"information\"], template=movies_template)\n",
    "    llm = ChatOpenAI(temperature=0, model_name=os.getenv('OPENAI_MODEL'))\n",
    "    chain = LLMChain(llm=llm, prompt=summary_movie_prompt_template)\n",
    "    for file in file_list:\n",
    "        with open(file, 'r', encoding='utf-8', errors='ignore') as input_file:\n",
    "            first_line = input_file.readline().strip('\\n')\n",
    "            content = input_file.read()\n",
    "            data = chain.run(information=content)\n",
    "            tmp_df = pd.DataFrame([json.loads(data.replace(\"```json\\n\",'').replace(\"\\n```\",''))])\n",
    "            tmp_df['url'] = first_line\n",
    "            movie_df = pd.concat([movie_df,tmp_df])\n",
    "        movie_df = movie_df.explode('producerName')\n",
    "        movie_df = movie_df.explode('directorName')\n",
    "    return movie_df"
   ]
  },
  {
   "cell_type": "code",
   "execution_count": 15,
   "metadata": {},
   "outputs": [],
   "source": [
    "movie_df = pd.DataFrame()\n",
    "movie_df = get_movies_info(txt_files,movie_df)"
   ]
  },
  {
   "cell_type": "code",
   "execution_count": 16,
   "metadata": {},
   "outputs": [
    {
     "data": {
      "text/html": [
       "<div>\n",
       "<style scoped>\n",
       "    .dataframe tbody tr th:only-of-type {\n",
       "        vertical-align: middle;\n",
       "    }\n",
       "\n",
       "    .dataframe tbody tr th {\n",
       "        vertical-align: top;\n",
       "    }\n",
       "\n",
       "    .dataframe thead th {\n",
       "        text-align: right;\n",
       "    }\n",
       "</style>\n",
       "<table border=\"1\" class=\"dataframe\">\n",
       "  <thead>\n",
       "    <tr style=\"text-align: right;\">\n",
       "      <th></th>\n",
       "      <th>movieName</th>\n",
       "      <th>producerName</th>\n",
       "      <th>directorName</th>\n",
       "      <th>releaseYear</th>\n",
       "      <th>url</th>\n",
       "    </tr>\n",
       "  </thead>\n",
       "  <tbody>\n",
       "    <tr>\n",
       "      <th>0</th>\n",
       "      <td>Harry Potter and the Deathly Hallows – Part 1</td>\n",
       "      <td>David Heyman</td>\n",
       "      <td>David Yates</td>\n",
       "      <td>2010</td>\n",
       "      <td>Harry Potter and the Deathly Hallows – Part 1</td>\n",
       "    </tr>\n",
       "    <tr>\n",
       "      <th>0</th>\n",
       "      <td>Harry Potter and the Deathly Hallows – Part 1</td>\n",
       "      <td>David Barron</td>\n",
       "      <td>David Yates</td>\n",
       "      <td>2010</td>\n",
       "      <td>Harry Potter and the Deathly Hallows – Part 1</td>\n",
       "    </tr>\n",
       "    <tr>\n",
       "      <th>0</th>\n",
       "      <td>Harry Potter and the Deathly Hallows – Part 2</td>\n",
       "      <td>David Heyman</td>\n",
       "      <td>David Yates</td>\n",
       "      <td>2011</td>\n",
       "      <td>Harry Potter and the Deathly Hallows – Part 2</td>\n",
       "    </tr>\n",
       "    <tr>\n",
       "      <th>0</th>\n",
       "      <td>Harry Potter and the Prisoner of Azkaban</td>\n",
       "      <td>David Heyman</td>\n",
       "      <td>Alfonso Cuarón</td>\n",
       "      <td>2004</td>\n",
       "      <td>Harry Potter and the Prisoner of Azkaban</td>\n",
       "    </tr>\n",
       "    <tr>\n",
       "      <th>0</th>\n",
       "      <td>Harry Potter and the Prisoner of Azkaban</td>\n",
       "      <td>Chris Columbus</td>\n",
       "      <td>Alfonso Cuarón</td>\n",
       "      <td>2004</td>\n",
       "      <td>Harry Potter and the Prisoner of Azkaban</td>\n",
       "    </tr>\n",
       "    <tr>\n",
       "      <th>0</th>\n",
       "      <td>Harry Potter and the Goblet of Fire</td>\n",
       "      <td>David Heyman</td>\n",
       "      <td>Mike Newell</td>\n",
       "      <td>2005</td>\n",
       "      <td>Harry Potter and the Goblet of Fire</td>\n",
       "    </tr>\n",
       "    <tr>\n",
       "      <th>0</th>\n",
       "      <td>Harry Potter and the Philosopher's Stone</td>\n",
       "      <td>David Heyman</td>\n",
       "      <td>Chris Columbus</td>\n",
       "      <td>2001</td>\n",
       "      <td>Harry Potter and the Philosopher's Stone</td>\n",
       "    </tr>\n",
       "    <tr>\n",
       "      <th>0</th>\n",
       "      <td>Harry Potter and the Order of the Phoenix</td>\n",
       "      <td>David Heyman</td>\n",
       "      <td>David Yates</td>\n",
       "      <td>2007</td>\n",
       "      <td>Harry Potter and the Order of the Phoenix</td>\n",
       "    </tr>\n",
       "    <tr>\n",
       "      <th>0</th>\n",
       "      <td>Harry Potter and the Half-Blood Prince</td>\n",
       "      <td>David Heyman</td>\n",
       "      <td>David Yates</td>\n",
       "      <td>2009</td>\n",
       "      <td>Harry Potter and the Half-Blood Prince</td>\n",
       "    </tr>\n",
       "    <tr>\n",
       "      <th>0</th>\n",
       "      <td>Harry Potter and the Chamber of Secrets</td>\n",
       "      <td>David Heyman</td>\n",
       "      <td>Chris Columbus</td>\n",
       "      <td>2002</td>\n",
       "      <td>Harry Potter and the Chamber of Secrets</td>\n",
       "    </tr>\n",
       "  </tbody>\n",
       "</table>\n",
       "</div>"
      ],
      "text/plain": [
       "                                       movieName    producerName  \\\n",
       "0  Harry Potter and the Deathly Hallows – Part 1    David Heyman   \n",
       "0  Harry Potter and the Deathly Hallows – Part 1    David Barron   \n",
       "0  Harry Potter and the Deathly Hallows – Part 2    David Heyman   \n",
       "0       Harry Potter and the Prisoner of Azkaban    David Heyman   \n",
       "0       Harry Potter and the Prisoner of Azkaban  Chris Columbus   \n",
       "0            Harry Potter and the Goblet of Fire    David Heyman   \n",
       "0       Harry Potter and the Philosopher's Stone    David Heyman   \n",
       "0      Harry Potter and the Order of the Phoenix    David Heyman   \n",
       "0         Harry Potter and the Half-Blood Prince    David Heyman   \n",
       "0        Harry Potter and the Chamber of Secrets    David Heyman   \n",
       "\n",
       "     directorName releaseYear                                            url  \n",
       "0     David Yates        2010  Harry Potter and the Deathly Hallows – Part 1  \n",
       "0     David Yates        2010  Harry Potter and the Deathly Hallows – Part 1  \n",
       "0     David Yates        2011  Harry Potter and the Deathly Hallows – Part 2  \n",
       "0  Alfonso Cuarón        2004       Harry Potter and the Prisoner of Azkaban  \n",
       "0  Alfonso Cuarón        2004       Harry Potter and the Prisoner of Azkaban  \n",
       "0     Mike Newell        2005            Harry Potter and the Goblet of Fire  \n",
       "0  Chris Columbus        2001       Harry Potter and the Philosopher's Stone  \n",
       "0     David Yates        2007      Harry Potter and the Order of the Phoenix  \n",
       "0     David Yates        2009         Harry Potter and the Half-Blood Prince  \n",
       "0  Chris Columbus        2002        Harry Potter and the Chamber of Secrets  "
      ]
     },
     "execution_count": 16,
     "metadata": {},
     "output_type": "execute_result"
    }
   ],
   "source": [
    "movie_df"
   ]
  },
  {
   "cell_type": "code",
   "execution_count": 17,
   "metadata": {},
   "outputs": [],
   "source": [
    "movie_df.to_csv('data/movie_df.csv',index=False)"
   ]
  },
  {
   "cell_type": "code",
   "execution_count": 5,
   "metadata": {},
   "outputs": [],
   "source": [
    "movie_df = pd.read_csv('data/movie_df.csv')"
   ]
  },
  {
   "cell_type": "markdown",
   "metadata": {},
   "source": [
    "##### Define a function to extract movie's information (structure information) from text files"
   ]
  },
  {
   "cell_type": "code",
   "execution_count": 18,
   "metadata": {},
   "outputs": [],
   "source": [
    "def get_casts_info(file_list: list,casts_df):\n",
    "    movies_template = \"\"\"Given the article about the Harry Potter movie and its information {information}, Carefully read the article, and I want you to create:\n",
    "         1. actor/actress name\n",
    "         2. his/her role\n",
    "         - NEVER Impute missing values.\n",
    "         - DO NOT MISS out any actor/actress related information\n",
    "         return information in json format with fields name 'name' , 'role'\n",
    "     \"\"\"\n",
    "    summary_movie_prompt_template = PromptTemplate(\n",
    "        input_variables=[\"information\"], template=movies_template)\n",
    "    llm = ChatOpenAI(temperature=0, model_name=os.getenv('OPENAI_MODEL'))\n",
    "    chain = LLMChain(llm=llm, prompt=summary_movie_prompt_template)\n",
    "    for file in file_list:\n",
    "        with open(file, 'r', encoding='utf-8', errors='ignore') as input_file:\n",
    "            first_line = input_file.readline().strip('\\n')\n",
    "            content = input_file.read()\n",
    "            data = chain.run(information=content)\n",
    "            tmp_df = pd.DataFrame(json.loads(data.replace(\"```json\\n\",'').replace(\"\\n```\",'')))\n",
    "            tmp_df['url'] = first_line\n",
    "            casts_df = pd.concat([casts_df,tmp_df])\n",
    "    return casts_df"
   ]
  },
  {
   "cell_type": "code",
   "execution_count": 19,
   "metadata": {},
   "outputs": [],
   "source": [
    "casts_df = pd.DataFrame()\n",
    "casts_df = get_casts_info(txt_files,casts_df)"
   ]
  },
  {
   "cell_type": "code",
   "execution_count": 21,
   "metadata": {},
   "outputs": [],
   "source": [
    "casts_df.to_csv('data/casts_df.csv',index=False)"
   ]
  },
  {
   "cell_type": "code",
   "execution_count": 6,
   "metadata": {},
   "outputs": [],
   "source": [
    "casts_df =pd.read_csv('data/casts_df.csv')"
   ]
  },
  {
   "cell_type": "code",
   "execution_count": 7,
   "metadata": {},
   "outputs": [
    {
     "data": {
      "text/html": [
       "<div>\n",
       "<style scoped>\n",
       "    .dataframe tbody tr th:only-of-type {\n",
       "        vertical-align: middle;\n",
       "    }\n",
       "\n",
       "    .dataframe tbody tr th {\n",
       "        vertical-align: top;\n",
       "    }\n",
       "\n",
       "    .dataframe thead th {\n",
       "        text-align: right;\n",
       "    }\n",
       "</style>\n",
       "<table border=\"1\" class=\"dataframe\">\n",
       "  <thead>\n",
       "    <tr style=\"text-align: right;\">\n",
       "      <th></th>\n",
       "      <th>movieName</th>\n",
       "      <th>producerName</th>\n",
       "      <th>directorName</th>\n",
       "      <th>releaseYear</th>\n",
       "      <th>url</th>\n",
       "    </tr>\n",
       "  </thead>\n",
       "  <tbody>\n",
       "    <tr>\n",
       "      <th>0</th>\n",
       "      <td>Harry Potter and the Deathly Hallows – Part 1</td>\n",
       "      <td>David Heyman</td>\n",
       "      <td>David Yates</td>\n",
       "      <td>2010</td>\n",
       "      <td>Harry Potter and the Deathly Hallows – Part 1</td>\n",
       "    </tr>\n",
       "    <tr>\n",
       "      <th>1</th>\n",
       "      <td>Harry Potter and the Deathly Hallows – Part 1</td>\n",
       "      <td>David Barron</td>\n",
       "      <td>David Yates</td>\n",
       "      <td>2010</td>\n",
       "      <td>Harry Potter and the Deathly Hallows – Part 1</td>\n",
       "    </tr>\n",
       "    <tr>\n",
       "      <th>2</th>\n",
       "      <td>Harry Potter and the Deathly Hallows – Part 2</td>\n",
       "      <td>David Heyman</td>\n",
       "      <td>David Yates</td>\n",
       "      <td>2011</td>\n",
       "      <td>Harry Potter and the Deathly Hallows – Part 2</td>\n",
       "    </tr>\n",
       "    <tr>\n",
       "      <th>3</th>\n",
       "      <td>Harry Potter and the Prisoner of Azkaban</td>\n",
       "      <td>David Heyman</td>\n",
       "      <td>Alfonso Cuarón</td>\n",
       "      <td>2004</td>\n",
       "      <td>Harry Potter and the Prisoner of Azkaban</td>\n",
       "    </tr>\n",
       "    <tr>\n",
       "      <th>4</th>\n",
       "      <td>Harry Potter and the Prisoner of Azkaban</td>\n",
       "      <td>Chris Columbus</td>\n",
       "      <td>Alfonso Cuarón</td>\n",
       "      <td>2004</td>\n",
       "      <td>Harry Potter and the Prisoner of Azkaban</td>\n",
       "    </tr>\n",
       "    <tr>\n",
       "      <th>5</th>\n",
       "      <td>Harry Potter and the Goblet of Fire</td>\n",
       "      <td>David Heyman</td>\n",
       "      <td>Mike Newell</td>\n",
       "      <td>2005</td>\n",
       "      <td>Harry Potter and the Goblet of Fire</td>\n",
       "    </tr>\n",
       "    <tr>\n",
       "      <th>6</th>\n",
       "      <td>Harry Potter and the Philosopher's Stone</td>\n",
       "      <td>David Heyman</td>\n",
       "      <td>Chris Columbus</td>\n",
       "      <td>2001</td>\n",
       "      <td>Harry Potter and the Philosopher's Stone</td>\n",
       "    </tr>\n",
       "    <tr>\n",
       "      <th>7</th>\n",
       "      <td>Harry Potter and the Order of the Phoenix</td>\n",
       "      <td>David Heyman</td>\n",
       "      <td>David Yates</td>\n",
       "      <td>2007</td>\n",
       "      <td>Harry Potter and the Order of the Phoenix</td>\n",
       "    </tr>\n",
       "    <tr>\n",
       "      <th>8</th>\n",
       "      <td>Harry Potter and the Half-Blood Prince</td>\n",
       "      <td>David Heyman</td>\n",
       "      <td>David Yates</td>\n",
       "      <td>2009</td>\n",
       "      <td>Harry Potter and the Half-Blood Prince</td>\n",
       "    </tr>\n",
       "    <tr>\n",
       "      <th>9</th>\n",
       "      <td>Harry Potter and the Chamber of Secrets</td>\n",
       "      <td>David Heyman</td>\n",
       "      <td>Chris Columbus</td>\n",
       "      <td>2002</td>\n",
       "      <td>Harry Potter and the Chamber of Secrets</td>\n",
       "    </tr>\n",
       "  </tbody>\n",
       "</table>\n",
       "</div>"
      ],
      "text/plain": [
       "                                       movieName    producerName  \\\n",
       "0  Harry Potter and the Deathly Hallows – Part 1    David Heyman   \n",
       "1  Harry Potter and the Deathly Hallows – Part 1    David Barron   \n",
       "2  Harry Potter and the Deathly Hallows – Part 2    David Heyman   \n",
       "3       Harry Potter and the Prisoner of Azkaban    David Heyman   \n",
       "4       Harry Potter and the Prisoner of Azkaban  Chris Columbus   \n",
       "5            Harry Potter and the Goblet of Fire    David Heyman   \n",
       "6       Harry Potter and the Philosopher's Stone    David Heyman   \n",
       "7      Harry Potter and the Order of the Phoenix    David Heyman   \n",
       "8         Harry Potter and the Half-Blood Prince    David Heyman   \n",
       "9        Harry Potter and the Chamber of Secrets    David Heyman   \n",
       "\n",
       "     directorName  releaseYear                                            url  \n",
       "0     David Yates         2010  Harry Potter and the Deathly Hallows – Part 1  \n",
       "1     David Yates         2010  Harry Potter and the Deathly Hallows – Part 1  \n",
       "2     David Yates         2011  Harry Potter and the Deathly Hallows – Part 2  \n",
       "3  Alfonso Cuarón         2004       Harry Potter and the Prisoner of Azkaban  \n",
       "4  Alfonso Cuarón         2004       Harry Potter and the Prisoner of Azkaban  \n",
       "5     Mike Newell         2005            Harry Potter and the Goblet of Fire  \n",
       "6  Chris Columbus         2001       Harry Potter and the Philosopher's Stone  \n",
       "7     David Yates         2007      Harry Potter and the Order of the Phoenix  \n",
       "8     David Yates         2009         Harry Potter and the Half-Blood Prince  \n",
       "9  Chris Columbus         2002        Harry Potter and the Chamber of Secrets  "
      ]
     },
     "execution_count": 7,
     "metadata": {},
     "output_type": "execute_result"
    }
   ],
   "source": [
    "movie_df"
   ]
  },
  {
   "cell_type": "code",
   "execution_count": 8,
   "metadata": {},
   "outputs": [
    {
     "data": {
      "text/html": [
       "<div>\n",
       "<style scoped>\n",
       "    .dataframe tbody tr th:only-of-type {\n",
       "        vertical-align: middle;\n",
       "    }\n",
       "\n",
       "    .dataframe tbody tr th {\n",
       "        vertical-align: top;\n",
       "    }\n",
       "\n",
       "    .dataframe thead th {\n",
       "        text-align: right;\n",
       "    }\n",
       "</style>\n",
       "<table border=\"1\" class=\"dataframe\">\n",
       "  <thead>\n",
       "    <tr style=\"text-align: right;\">\n",
       "      <th></th>\n",
       "      <th>name</th>\n",
       "      <th>role</th>\n",
       "      <th>url</th>\n",
       "    </tr>\n",
       "  </thead>\n",
       "  <tbody>\n",
       "    <tr>\n",
       "      <th>0</th>\n",
       "      <td>Daniel Radcliffe</td>\n",
       "      <td>Harry Potter</td>\n",
       "      <td>Harry Potter and the Deathly Hallows – Part 1</td>\n",
       "    </tr>\n",
       "    <tr>\n",
       "      <th>1</th>\n",
       "      <td>Rupert Grint</td>\n",
       "      <td>Ron Weasley</td>\n",
       "      <td>Harry Potter and the Deathly Hallows – Part 1</td>\n",
       "    </tr>\n",
       "    <tr>\n",
       "      <th>2</th>\n",
       "      <td>Emma Watson</td>\n",
       "      <td>Hermione Granger</td>\n",
       "      <td>Harry Potter and the Deathly Hallows – Part 1</td>\n",
       "    </tr>\n",
       "    <tr>\n",
       "      <th>3</th>\n",
       "      <td>Bonnie Wright</td>\n",
       "      <td>Ginny Weasley</td>\n",
       "      <td>Harry Potter and the Deathly Hallows – Part 1</td>\n",
       "    </tr>\n",
       "    <tr>\n",
       "      <th>4</th>\n",
       "      <td>Helena Bonham Carter</td>\n",
       "      <td>Bellatrix Lestrange</td>\n",
       "      <td>Harry Potter and the Deathly Hallows – Part 1</td>\n",
       "    </tr>\n",
       "    <tr>\n",
       "      <th>...</th>\n",
       "      <td>...</td>\n",
       "      <td>...</td>\n",
       "      <td>...</td>\n",
       "    </tr>\n",
       "    <tr>\n",
       "      <th>278</th>\n",
       "      <td>Alfred Burke</td>\n",
       "      <td>Master Dippet</td>\n",
       "      <td>Harry Potter and the Chamber of Secrets</td>\n",
       "    </tr>\n",
       "    <tr>\n",
       "      <th>279</th>\n",
       "      <td>Daisy Bates</td>\n",
       "      <td>moving picture</td>\n",
       "      <td>Harry Potter and the Chamber of Secrets</td>\n",
       "    </tr>\n",
       "    <tr>\n",
       "      <th>280</th>\n",
       "      <td>David Tysall</td>\n",
       "      <td>moving picture</td>\n",
       "      <td>Harry Potter and the Chamber of Secrets</td>\n",
       "    </tr>\n",
       "    <tr>\n",
       "      <th>281</th>\n",
       "      <td>Peter Taylor</td>\n",
       "      <td>moving picture</td>\n",
       "      <td>Harry Potter and the Chamber of Secrets</td>\n",
       "    </tr>\n",
       "    <tr>\n",
       "      <th>282</th>\n",
       "      <td>Helen Stuart</td>\n",
       "      <td>Millicent Bulstrode</td>\n",
       "      <td>Harry Potter and the Chamber of Secrets</td>\n",
       "    </tr>\n",
       "  </tbody>\n",
       "</table>\n",
       "<p>283 rows × 3 columns</p>\n",
       "</div>"
      ],
      "text/plain": [
       "                     name                 role  \\\n",
       "0        Daniel Radcliffe         Harry Potter   \n",
       "1            Rupert Grint          Ron Weasley   \n",
       "2             Emma Watson     Hermione Granger   \n",
       "3           Bonnie Wright        Ginny Weasley   \n",
       "4    Helena Bonham Carter  Bellatrix Lestrange   \n",
       "..                    ...                  ...   \n",
       "278          Alfred Burke        Master Dippet   \n",
       "279           Daisy Bates       moving picture   \n",
       "280          David Tysall       moving picture   \n",
       "281          Peter Taylor       moving picture   \n",
       "282          Helen Stuart  Millicent Bulstrode   \n",
       "\n",
       "                                               url  \n",
       "0    Harry Potter and the Deathly Hallows – Part 1  \n",
       "1    Harry Potter and the Deathly Hallows – Part 1  \n",
       "2    Harry Potter and the Deathly Hallows – Part 1  \n",
       "3    Harry Potter and the Deathly Hallows – Part 1  \n",
       "4    Harry Potter and the Deathly Hallows – Part 1  \n",
       "..                                             ...  \n",
       "278        Harry Potter and the Chamber of Secrets  \n",
       "279        Harry Potter and the Chamber of Secrets  \n",
       "280        Harry Potter and the Chamber of Secrets  \n",
       "281        Harry Potter and the Chamber of Secrets  \n",
       "282        Harry Potter and the Chamber of Secrets  \n",
       "\n",
       "[283 rows x 3 columns]"
      ]
     },
     "execution_count": 8,
     "metadata": {},
     "output_type": "execute_result"
    }
   ],
   "source": [
    "casts_df"
   ]
  },
  {
   "cell_type": "markdown",
   "metadata": {},
   "source": [
    "##### Ingest structure data to the graph database"
   ]
  },
  {
   "cell_type": "code",
   "execution_count": 9,
   "metadata": {},
   "outputs": [],
   "source": [
    "graph = Neo4jGraph(url=os.getenv('NEO4J_URI'), username=os.getenv('NEO4J_USER'), password=os.getenv('NEO4J_PASSWORD'),database=os.getenv('NEO4J_DATABASE'))\n",
    "for index, row in movie_df.iterrows():\n",
    "    params = {\n",
    "        \"movieName\": row['movieName'],\n",
    "        \"producerName\": row['producerName'],\n",
    "        \"directorName\": row['directorName'],\n",
    "        \"releaseYear\": row['releaseYear'],\n",
    "        \"url\": row['url']\n",
    "    }\n",
    "    graph.query(\n",
    "        \"\"\"\n",
    "    MERGE (m:Movie {title: $movieName})\n",
    "    SET m.releaseYear = toInteger($releaseYear),\n",
    "    m.url = $url\n",
    "    MERGE (a:Article {movieName: $movieName})\n",
    "    MERGE (d:Person:Director {name: $producerName})\n",
    "    MERGE (p:Person:Producer {name: $producerName})\n",
    "    MERGE (m)-[:HAS_ARTICLE]->(a)\n",
    "    MERGE (m)<-[:DIRECTED]-(d)\n",
    "    MERGE (m)<-[:PRODUCED]-(p)\n",
    "    \"\"\",\n",
    "        params,\n",
    ")\n"
   ]
  },
  {
   "cell_type": "markdown",
   "metadata": {},
   "source": [
    "##### graph model\n",
    "\n",
    "<img src=\"img/graph_model.png\" width=\"800\"/>"
   ]
  },
  {
   "cell_type": "markdown",
   "metadata": {},
   "source": [
    "##### Create NEXT relationship\n",
    "\n",
    "<img src=\"img/next_rels.png\" width=\"800\"/>"
   ]
  },
  {
   "cell_type": "code",
   "execution_count": 10,
   "metadata": {},
   "outputs": [
    {
     "data": {
      "text/plain": [
       "[{'batches': 1,\n",
       "  'total': 8,\n",
       "  'timeTaken': 0,\n",
       "  'committedOperations': 8,\n",
       "  'failedOperations': 0,\n",
       "  'failedBatches': 0,\n",
       "  'retries': 0,\n",
       "  'errorMessages': {},\n",
       "  'batch': {'total': 1, 'errors': {}, 'committed': 1, 'failed': 0},\n",
       "  'operations': {'total': 8, 'errors': {}, 'committed': 8, 'failed': 0},\n",
       "  'wasTerminated': False,\n",
       "  'failedParams': {},\n",
       "  'updateStatistics': {'relationshipsDeleted': 0,\n",
       "   'relationshipsCreated': 7,\n",
       "   'nodesDeleted': 0,\n",
       "   'nodesCreated': 0,\n",
       "   'labelsRemoved': 0,\n",
       "   'labelsAdded': 0,\n",
       "   'propertiesSet': 0}}]"
      ]
     },
     "execution_count": 10,
     "metadata": {},
     "output_type": "execute_result"
    }
   ],
   "source": [
    "graph.query(\"\"\"\n",
    "            CALL apoc.periodic.iterate(\n",
    "            'MATCH (m:Movie) RETURN m as movies order by m.releaseYear',\n",
    "            'WITH movies as m\n",
    "             WITH collect(m) AS ms\n",
    "             WITH ms, ms[1..] as nextM\n",
    "             UNWIND range(0,size(nextM)-1,1) as index\n",
    "             WITH ms[index] as first, nextM[index] as second\n",
    "            CREATE (first)-[:NEXT]->(second)',{batchSize: 1000, batchMode: 'BATCH'});\n",
    "            \"\"\")"
   ]
  },
  {
   "cell_type": "markdown",
   "metadata": {},
   "source": [
    "##### Create relationships between Movies and casts"
   ]
  },
  {
   "cell_type": "code",
   "execution_count": 11,
   "metadata": {},
   "outputs": [],
   "source": [
    "graph = Neo4jGraph(url=os.getenv('NEO4J_URI'), username=os.getenv('NEO4J_USER'), password=os.getenv('NEO4J_PASSWORD'),database=os.getenv('NEO4J_DATABASE'))\n",
    "for index, row in casts_df.iterrows():\n",
    "    params = {\n",
    "        \"name\": row['name'],\n",
    "        \"role\": row['role'],\n",
    "        \"url\": row['url']\n",
    "    }\n",
    "    graph.query(\n",
    "        \"\"\"\n",
    "    MATCH (m:Movie {url: $url})\n",
    "    MERGE (a:Person:Cast {name: $name})\n",
    "    MERGE (m)<-[:ACTED_IN {role: $role}]-(a)\n",
    "    \"\"\",\n",
    "        params,\n",
    "    )"
   ]
  },
  {
   "cell_type": "markdown",
   "metadata": {},
   "source": [
    "##### Ingest unstructure data to the graph database"
   ]
  },
  {
   "cell_type": "code",
   "execution_count": 12,
   "metadata": {},
   "outputs": [],
   "source": [
    "def ingest_docs(parent_documents,movieName,embeddings,child_splitter):\n",
    "    graph = Neo4jGraph(url=os.getenv('NEO4J_URI'), username=os.getenv('NEO4J_USER'), password=os.getenv('NEO4J_PASSWORD'),database=os.getenv('NEO4J_DATABASE'))\n",
    "\n",
    "    for i, parent in enumerate(parent_documents):\n",
    "        child_documents = child_splitter.split_documents([parent])\n",
    "        #print(child_documents)\n",
    "        params = {\n",
    "        \"parent_text\": parent.page_content,\n",
    "        \"parent_id\": i,\n",
    "        \"movieName\" : movieName,\n",
    "        \"parent_embedding\": embeddings.embed_query(parent.page_content + movieName),\n",
    "        \"children\": [\n",
    "            {\n",
    "                \"text\": c.page_content,\n",
    "                \"id\": f\"{i}-{ic}-{movieName}\",\n",
    "                \"embedding\": embeddings.embed_query(c.page_content + movieName),\n",
    "            }\n",
    "            for ic, c in enumerate(child_documents)\n",
    "        ],\n",
    "        }\n",
    "        # Ingest data\n",
    "        graph.query(\n",
    "        \"\"\"\n",
    "        MERGE (p:Parent:Document {id: $parent_id,movieName:$movieName})\n",
    "        SET p.text = $parent_text\n",
    "        WITH p\n",
    "        CALL db.create.setVectorProperty(p, 'embedding', $parent_embedding)\n",
    "        YIELD node\n",
    "        WITH p\n",
    "        UNWIND $children AS child\n",
    "        MERGE (c:Child:Document {id: child.id})\n",
    "        SET c.text = child.text\n",
    "        MERGE (c)<-[:HAS_CHILD]-(p)\n",
    "        WITH c, child\n",
    "        CALL db.create.setVectorProperty(c, 'embedding', child.embedding)\n",
    "        YIELD node\n",
    "        RETURN count(*)\n",
    "        \"\"\",\n",
    "            params,\n",
    "        )\n"
   ]
  },
  {
   "cell_type": "code",
   "execution_count": 13,
   "metadata": {},
   "outputs": [
    {
     "name": "stdout",
     "output_type": "stream",
     "text": [
      "ingest : Harry Potter and the Deathly Hallows – Part 1\n",
      "ingest : Harry Potter and the Deathly Hallows – Part 2\n",
      "ingest : Harry Potter and the Prisoner of Azkaban\n",
      "ingest : Harry Potter and the Goblet of Fire\n",
      "ingest : Harry Potter and the Philosopher's Stone\n",
      "ingest : Harry Potter and the Order of the Phoenix\n",
      "ingest : Harry Potter and the Half-Blood Prince\n",
      "ingest : Harry Potter and the Chamber of Secrets\n"
     ]
    }
   ],
   "source": [
    "# Embeddings\n",
    "embeddings = OpenAIEmbeddings()\n",
    "embedding_dimension = 1536\n",
    "llm = ChatOpenAI(temperature=0)\n",
    "\n",
    "\n",
    "for file in txt_files:\n",
    "    with open(file, 'r', encoding='utf-8', errors='ignore') as input_file:\n",
    "        first_line = input_file.readline().strip('\\n')\n",
    "        content = input_file.read()\n",
    "    documents =  [Document(page_content=content, metadata={\"source\": file,\"movieName\":first_line})]\n",
    "    # Ingest Parent-Child node pairs\n",
    "    parent_splitter = TokenTextSplitter(chunk_size=512, chunk_overlap=24)\n",
    "    child_splitter = TokenTextSplitter(chunk_size=100, chunk_overlap=24)\n",
    "    parent_documents = parent_splitter.split_documents(documents)\n",
    "    print(f\"ingest : {first_line}\")\n",
    "    ingest_docs(parent_documents,first_line,embeddings,child_splitter)\n"
   ]
  },
  {
   "cell_type": "markdown",
   "metadata": {},
   "source": [
    "<img src=\"img/has_content.png\" width=\"1000\"/>"
   ]
  },
  {
   "cell_type": "code",
   "execution_count": 14,
   "metadata": {},
   "outputs": [
    {
     "data": {
      "text/plain": [
       "[{'batches': 1,\n",
       "  'total': 117,\n",
       "  'timeTaken': 0,\n",
       "  'committedOperations': 117,\n",
       "  'failedOperations': 0,\n",
       "  'failedBatches': 0,\n",
       "  'retries': 0,\n",
       "  'errorMessages': {},\n",
       "  'batch': {'total': 1, 'errors': {}, 'committed': 1, 'failed': 0},\n",
       "  'operations': {'total': 117, 'errors': {}, 'committed': 117, 'failed': 0},\n",
       "  'wasTerminated': False,\n",
       "  'failedParams': {},\n",
       "  'updateStatistics': {'relationshipsDeleted': 0,\n",
       "   'relationshipsCreated': 117,\n",
       "   'nodesDeleted': 0,\n",
       "   'nodesCreated': 0,\n",
       "   'labelsRemoved': 0,\n",
       "   'labelsAdded': 0,\n",
       "   'propertiesSet': 0}}]"
      ]
     },
     "execution_count": 14,
     "metadata": {},
     "output_type": "execute_result"
    }
   ],
   "source": [
    "graph = Neo4jGraph(url=os.getenv('NEO4J_URI'), username=os.getenv('NEO4J_USER'), password=os.getenv('NEO4J_PASSWORD'),database=os.getenv('NEO4J_DATABASE'))\n",
    "graph.query(\"\"\"\n",
    "            CALL apoc.periodic.iterate(\n",
    "            'MATCH (n:Article),(m:Parent) WHERE n.movieName = m.movieName RETURN m,n',\n",
    "            'WITH n,m\n",
    "             MERGE (n)-[:HAS_CONTENT]->(m)',{batchSize: 1000, batchMode: 'BATCH'});\n",
    "            \"\"\")"
   ]
  },
  {
   "cell_type": "markdown",
   "metadata": {},
   "source": [
    "##### create vector indext for article's content"
   ]
  },
  {
   "cell_type": "code",
   "execution_count": 15,
   "metadata": {},
   "outputs": [],
   "source": [
    "try:\n",
    "    graph.query(\n",
    "        \"CALL db.index.vector.createNodeIndex('child_document', \"\n",
    "        \"'Child', 'embedding', $dimension, 'cosine')\",\n",
    "        {\"dimension\": embedding_dimension},\n",
    "    )\n",
    "except ClientError:  # already exists\n",
    "    pass"
   ]
  },
  {
   "cell_type": "code",
   "execution_count": 16,
   "metadata": {},
   "outputs": [],
   "source": [
    "try:\n",
    "    graph.query(\n",
    "        \"CALL db.index.vector.createNodeIndex('typical_rag', \"\n",
    "        \"'Parent', 'embedding', $dimension, 'cosine')\",\n",
    "        {\"dimension\": embedding_dimension},\n",
    "    )\n",
    "except ClientError:  # already exists\n",
    "    pass"
   ]
  }
 ],
 "metadata": {
  "kernelspec": {
   "display_name": "harry-potter-demo-M6hG0Rsr",
   "language": "python",
   "name": "python3"
  },
  "language_info": {
   "codemirror_mode": {
    "name": "ipython",
    "version": 3
   },
   "file_extension": ".py",
   "mimetype": "text/x-python",
   "name": "python",
   "nbconvert_exporter": "python",
   "pygments_lexer": "ipython3",
   "version": "3.9.6"
  }
 },
 "nbformat": 4,
 "nbformat_minor": 2
}
