{
 "cells": [
  {
   "cell_type": "code",
   "execution_count": 1,
   "metadata": {},
   "outputs": [
    {
     "name": "stderr",
     "output_type": "stream",
     "text": [
      "/Users/nadcharin/.local/share/virtualenvs/harry-potter-demo-M6hG0Rsr/lib/python3.9/site-packages/urllib3/__init__.py:34: NotOpenSSLWarning: urllib3 v2 only supports OpenSSL 1.1.1+, currently the 'ssl' module is compiled with 'LibreSSL 2.8.3'. See: https://github.com/urllib3/urllib3/issues/3020\n",
      "  warnings.warn(\n"
     ]
    }
   ],
   "source": [
    "from langchain.graphs import Neo4jGraph\n",
    "import os\n",
    "import glob\n",
    "import json\n",
    "from pathlib import Path\n",
    "from langchain.chains import GraphCypherQAChain\n",
    "from langchain.graphs import Neo4jGraph\n",
    "from langchain.chains import RetrievalQA\n",
    "from langchain.chat_models import ChatOpenAI\n",
    "from langchain.prompts.prompt import PromptTemplate\n",
    "\n",
    "from dotenv import load_dotenv, find_dotenv\n",
    "_ = load_dotenv(find_dotenv())"
   ]
  },
  {
   "cell_type": "markdown",
   "metadata": {},
   "source": [
    "## Graph model\n",
    "\n",
    "<img src=\"img/graph_model.png\" width=\"800\"/>"
   ]
  },
  {
   "cell_type": "code",
   "execution_count": 8,
   "metadata": {},
   "outputs": [],
   "source": [
    "def cypher_chain(question):\n",
    "    CYPHER_GENERATION_TEMPLATE = \"\"\"You are an expert Neo4j Cypher translator who understands the question in english and convert to Cypher strictly based on the Neo4j Schema provided and following the instructions below:\n",
    "    1. Generate Cypher query compatible ONLY for Neo4j Version 5\n",
    "    2. DO NOT use EXISTS, SIZE keywords in the cypher. Use alias when using the WITH keyword\n",
    "    3. Use only Nodes and relationships mentioned in the schema\n",
    "    4. Always enclose the Cypher output inside 3 backticks\n",
    "    5. ALWAYS do a case-insensitive and fuzzy search for any properties related search. Eg: to search for a Movie name use `toLower(m.title) contains toLower('neo4j')`\n",
    "    6. Always use aliases to refer the node in the query\n",
    "    7. Cypher is NOT SQL. So, do not mix and match the syntaxes\n",
    "    Schema:\n",
    "    {schema}\n",
    "\n",
    "    Note: Do not include any explanations or apologies in your responses.\n",
    "    Do not respond to any questions that might ask anything else than for you to construct a Cypher statement.\n",
    "    Do not include any text except the generated Cypher statement.\n",
    "\n",
    "    The question is:\n",
    "    {question}\"\"\"\n",
    "    CYPHER_GENERATION_PROMPT = PromptTemplate(\n",
    "        input_variables=[\"schema\", \"question\"], template=CYPHER_GENERATION_TEMPLATE)\n",
    "    graph = Neo4jGraph(url=os.getenv('NEO4J_URI'), username=os.getenv('NEO4J_USER'), password=os.getenv('NEO4J_PASSWORD'),database=os.getenv('NEO4J_DATABASE'))\n",
    "    cypher_chain = GraphCypherQAChain.from_llm(\n",
    "    cypher_llm = ChatOpenAI(temperature=0, model_name=os.getenv('OPENAI_MODEL')),\n",
    "    qa_llm = ChatOpenAI(temperature=0,model_name=os.getenv('OPENAI_MODEL')), graph=graph, verbose=True,cypher_prompt=CYPHER_GENERATION_PROMPT)\n",
    "    return cypher_chain.run(question)\n"
   ]
  },
  {
   "cell_type": "code",
   "execution_count": 9,
   "metadata": {},
   "outputs": [
    {
     "name": "stdout",
     "output_type": "stream",
     "text": [
      "\n",
      "\n",
      "\u001b[1m> Entering new GraphCypherQAChain chain...\u001b[0m\n",
      "Generated Cypher:\n",
      "\u001b[32;1m\u001b[1;3m\n",
      "MATCH (c:Cast)-[r:ACTED_IN]->(m:Movie)\n",
      "WHERE toLower(m.title) CONTAINS toLower('harry potter')\n",
      "WITH c, r.role AS character, COUNT(m) AS moviesCount\n",
      "WHERE moviesCount = 8\n",
      "RETURN c.name, COLLECT(character) AS characters\n",
      "\u001b[0m\n",
      "Full Context:\n",
      "\u001b[32;1m\u001b[1;3m[{'c.name': 'Tom Felton', 'characters': ['Draco Malfoy']}, {'c.name': 'Bonnie Wright', 'characters': ['Ginny Weasley']}, {'c.name': 'Emma Watson', 'characters': ['Hermione Granger']}, {'c.name': 'Rupert Grint', 'characters': ['Ron Weasley']}, {'c.name': 'Daniel Radcliffe', 'characters': ['Harry Potter']}]\u001b[0m\n",
      "\n",
      "\u001b[1m> Finished chain.\u001b[0m\n",
      "The actors who appeared in all eight Harry Potter films and their characters are:\n",
      "\n",
      "- Tom Felton as Draco Malfoy\n",
      "- Bonnie Wright as Ginny Weasley\n",
      "- Emma Watson as Hermione Granger\n",
      "- Rupert Grint as Ron Weasley\n",
      "- Daniel Radcliffe as Harry Potter\n"
     ]
    }
   ],
   "source": [
    "print(cypher_chain(\"Which actors appeared in all eight Harry Potter films, and who are their characters?\"))"
   ]
  },
  {
   "cell_type": "code",
   "execution_count": 9,
   "metadata": {},
   "outputs": [
    {
     "name": "stdout",
     "output_type": "stream",
     "text": [
      "\n",
      "\n",
      "\u001b[1m> Entering new GraphCypherQAChain chain...\u001b[0m\n",
      "Generated Cypher:\n",
      "\u001b[32;1m\u001b[1;3m\n",
      "MATCH (m:Movie)\n",
      "WHERE toLower(m.title) CONTAINS 'harry potter and the philosopher\\'s stone'\n",
      "WITH m\n",
      "MATCH (c:Cast)-[r:ACTED_IN]->(m)\n",
      "WHERE toLower(r.role) IN ['harry potter', 'ron weasley', 'hermione granger']\n",
      "RETURN m.releaseYear, c.name AS Actor, r.role AS Role\n",
      "\u001b[0m\n",
      "Full Context:\n",
      "\u001b[32;1m\u001b[1;3m[{'m.releaseYear': 2001, 'Actor': 'Emma Watson', 'Role': 'Hermione Granger'}, {'m.releaseYear': 2001, 'Actor': 'Rupert Grint', 'Role': 'Ron Weasley'}, {'m.releaseYear': 2001, 'Actor': 'Daniel Radcliffe', 'Role': 'Harry Potter'}]\u001b[0m\n",
      "\n",
      "\u001b[1m> Finished chain.\u001b[0m\n",
      "'Harry Potter and the Philosopher's Stone' was released in 2001. In this film, Daniel Radcliffe played the role of Harry Potter, Rupert Grint portrayed Ron Weasley, and Emma Watson took on the character of Hermione Granger.\n"
     ]
    }
   ],
   "source": [
    "print(cypher_chain(\"What year was 'Harry Potter and the Philosopher's Stone' released, and which actors played the roles of Harry Potter, Ron Weasley, and Hermione Granger?\"))"
   ]
  },
  {
   "cell_type": "code",
   "execution_count": 10,
   "metadata": {},
   "outputs": [
    {
     "name": "stdout",
     "output_type": "stream",
     "text": [
      "\n",
      "\n",
      "\u001b[1m> Entering new GraphCypherQAChain chain...\u001b[0m\n",
      "Generated Cypher:\n",
      "\u001b[32;1m\u001b[1;3m\n",
      "MATCH (m:Movie)-[:HAS_ARTICLE]->(a:Article)-[:HAS_CONTENT]->(p:Parent)\n",
      "WHERE toLower(m.title) CONTAINS 'harry potter' AND toLower(p.text) CONTAINS 'wizard'\n",
      "RETURN m.title AS MovieTitle, p.text AS DiscoveryText\n",
      "\u001b[0m\n",
      "Full Context:\n",
      "\u001b[32;1m\u001b[1;3m[{'MovieTitle': 'Harry Potter and the Deathly Hallows – Part 1', 'DiscoveryText': \" and former employee at Gringotts Bank. Davis replaced Verne Troyer, who portrayed the character physically in the first film, though Davis had dubbed Griphook's lines.\\nTom Felton as Draco Malfoy: a Death Eater and son of Lucius and Narcissa Malfoy.\\nRalph Fiennes as Lord Voldemort: An evil power-hungry wizard, and the leader of the Death Eaters.\\nMichael Gambon as Professor Albus Dumbledore: Former headmaster of Hogwarts killed by Severus Snape in the previous film.\\nBrendan Gleeson as Alastor 'Mad-Eye' Moody: A member of the Order of the Phoenix.\\nJohn Hurt as Garrick Ollivander: A wandmaker abducted by the Death Eaters.\\nRhys Ifans as Xenophilius Lovegood: The eccentric father of the trio's friend Luna.\\nJason Isaacs as Lucius Malfoy: Draco Malfoy's father and a disgraced Death Eater.\\nHelen McCrory as Narcissa Malfoy: Draco's mother and Bellatrix's sister.\\nBill Nighy as Rufus Scrimgeour: The new Minister for Magic.\\nAlan Rickman as Professor Severus Snape: A double agent to the Death Eaters and the new headmaster of Hogwarts.\\nTimothy Spall as Peter Pettigrew/Wormtail: The Death Eater who betrayed Harry's parents to Voldemort.\\nImelda Staunton as Dolores Umbridge: Senior Undersecretary to the Minister for Magic and Head of the Muggle-born Registration Commission.\\nDavid Thewlis as Remus Lupin: A member of the Order of the Phoenix and a former teacher at Hogwarts.\\nNatalia Tena as Nymphadora Tonks: Remus Lupin's wife and a member of the Order of the Phoenix.\\nGeorge Harris as Kingsley Shacklebolt: Another member of the Order of the Phoenix.\\nJulie Walters as Molly Weasley: The Weasley matriarch and a mother figure to Harry.\\nMark Williams as Arthur Weasley: Ron Weasley's father, a worker at the Ministry of Magic.\\nDomhnall Gleeson as Bill Weasley: Arthur and Molly's eldest son, a member of the Order of the Phoenix who escorts Harry out of Little Whinging and who is to marry Fleur.\\nClémence Poésy as Fleur Delacour: A French witch of the Beauxbatons School who also escorts Harry from Little Whinging\"}, {'MovieTitle': 'Harry Potter and the Deathly Hallows – Part 1', 'DiscoveryText': \" into the frigid water, but the locket around his neck tightens, strangling him. Ron appears, retrieves the sword, and saves Harry. They destroy the locket Horcrux with the sword. Ron explains that the Deluminator led him to their location.\\nHarry, Ron and Hermione visit Xenophilius Lovegood and learn the symbol represents the Deathly Hallows. Many years before, three brothers each received a prize that evades Death: the Resurrection Stone, the Cloak of Invisibility, and the Elder Wand, the most powerful wand known. Possessing all three makes one the Master of Death. Xenophilius secretly summons the Death Eaters, hoping to exchange Harry for a kidnapped Luna. The three escape, but Snatchers capture them. During a vision, Harry sees an elderly Grindelwald telling Voldemort that the Elder Wand is buried with Dumbledore.\\nAt Malfoy Manor, Bellatrix Lestrange sees a Snatcher has Gryffindor's sword that she believed was in her Gringotts vault. Harry and Ron are locked into the cellar where they encounter Luna, Ollivander, and Griphook. Upstairs, Bellatrix tortures Hermione. Harry begs for help using a mirror shard in which he believes he glimpsed Dumbledore; Dobby appears in response and helps save everyone while Harry grabs their captured wands from Draco Malfoy. As they disapparate, Bellatrix throws a knife, killing Dobby. Harry buries him near Bill and Fleur's seaside cottage, an Order safe house. Meanwhile, Voldemort retrieves the Elder Wand from Dumbledore's tomb.\\n\\n\\n== Cast ==\\n\\nDaniel Radcliffe as Harry Potter: A 17-year-old wizard.\\nRupert Grint as Ron Weasley: A young wizard and one of Harry's best friends and allies.\\nEmma Watson as Hermione Granger: A young witch and one of Harry's best friends and allies.\\nBonnie Wright as Ginny Weasley: Ron's younger sister and Harry's love interest.\\nHelena Bonham Carter as Bellatrix Lestrange: A Death Eater, Sirius Black's insane cousin and murderer, and the aunt of Draco.\\nRobbie Coltrane as Rubeus Hagrid: Harry's half-giant friend, and gamekeeper at Hogwarts.\\nWarwick Davis as Griphook: A goblin and former employee at Gringotts Bank. Davis replaced Verne Troyer, who portrayed the character physically in the\"}, {'MovieTitle': 'Harry Potter and the Deathly Hallows – Part 1', 'DiscoveryText': '.1/10. The site\\'s critics consensus reads, \"It can\\'t help but feel like the prelude it is, but Deathly Hallows: Part I is a beautifully filmed, emotionally satisfying penultimate installment for the Harry Potter series.\" On Metacritic, the film has a weighted average score of 65 out of 100, based on 42 critics, indicating \"generally favourable reviews\". Audiences surveyed by CinemaScore gave the film an average grade of \"A\" on an A+ to F scale.The UK\\'s Daily Telegraph also gave the film a positive review, remarking, \"For the most part the action romps along, spurred by some impressive special effects,\" adding, \"It\\'s just slightly disappointing that, with the momentum having been established so effectively, we now have to wait until next year to enjoy the rest of the ride.\" Roger Ebert awarded the first part three out of four stars, praising the cast and calling it \"a handsome and sometimes harrowing film . . . completely unintelligible for anyone coming to the series for the first time\". Scott Bowles of USA Today called it, \"Menacing and meditative, Hallows is arguably the best instalment of the planned eight-film franchise, though audiences who haven\\'t kept up with previous chapters will be hopelessly lost\", while Lisa Schwarzbaum of Entertainment Weekly likewise praised the film as \"the most cinematically rewarding chapter yet.\" In a review for the Orlando Sentinel, Roger Moore proclaimed Part I as \"Alternately funny and touching, it\\'s the best film in the series, an Empire Strikes Back for these wizards and their wizarding world. And those effects? They\\'re so special you don\\'t notice them.\" Ramin Setoodeh of Newsweek gave a negative review, writing, \"They\\'ve taken one of the most enchanting series in contemporary fiction and sucked out all the magic . . . while Rowling\\'s stories are endlessly inventive, Potter onscreen just gives you a headache.\" Lou Lumenick of The New York Post found the film to be \"Beautifully shot but a soulless cash machine... [that] delivers no dramatic payoff, no resolution and not much fun.\"Keith Uhlich of Time Out New York named Harry Potter and the Deathly Hallows – Part 1 the seventh-best film of 2010, calling it an \"elatingly downbeat blockbuster\".\\n\\n\\n=== Accolades ===\\nHarry Potter and the Deathly Hallows – Part 1 was nominated for Best Art Direction and Best Visual Effects at the 83rd'}, {'MovieTitle': 'Harry Potter and the Deathly Hallows – Part 1', 'DiscoveryText': ' each a bequest: Ron a Deluminator, Hermione a copy of The Tales of Beedle the Bard, and Harry the Golden Snitch he caught in his first Quidditch match. Dumbledore had also bequeathed the Sword of Gryffindor to Harry, but it has gone missing.\\nNews arrives during the wedding that the Ministry has fallen and Scrimgeour is dead. Death Eaters attack and Harry, Ron, and Hermione escape to Number 12, Grimmauld Place. While there, Ron realizes that Sirius\\' brother, Regulus Black, is the R.A.B. who stole Salazar Slytherin\\'s locket from Voldemort. Local thief Mundungus Fletcher later sold it to Dolores Umbridge. Harry, Ron and Hermione infiltrate the Ministry and recover the locket but they are chased by Death Eaters in a chaotic exit. Hermione disapparates them to a forest. Meanwhile, Ron is injured. The trio decide to start their journey to discover and destroy all of Lord Voldemort\\'s Horcruxes, starting from the locket.\\nAttempts to destroy the locket fail. Hermione deduces that Gryffindor\\'s sword can destroy Horcruxes because it is impregnated with basilisk venom. Ron, affected by the dark locket, is frustrated with their slow progress and irrationally jealous of Harry and Hermione. He argues with Harry, then disapparates, leaving Harry and Hermione to continue their journey. When Harry touches the Snitch to his lips, it reveals a cryptic message: \"I open at the close.\" Hermione notices a strange symbol drawn in Beedle the Bard that is identical to one Luna Lovegood\\'s father Xenophilius wears.\\nHarry and Hermione search for the sword in Godric\\'s Hollow and encounter the same strange symbol in a cemetery. Elderly historian Bathilda Bagshot invites them in her cottage, where they find a photo of the young man in Harry\\'s dream who stole a wand from wandmaker Gregorovitch. Bathilda morphs into Voldemort\\'s snake Nagini and attacks Harry. Hermione disapparates them to safety, but her rebounding spell accidentally destroys Harry\\'s wand. Hermione identifies the man in the photo as dark wizard Gellert Grindelwald. That night, a doe patronus leads Harry to a frozen pond where Gryffindor\\'s sword lies on the bottom. Harry dives into the frigid water, but the locket around his neck tightens, strangling him. Ron appears, retrie'}, {'MovieTitle': 'Harry Potter and the Deathly Hallows – Part 2', 'DiscoveryText': \"Harry Potter and the Deathly Hallows – Part 2 is a 2011 fantasy film directed by David Yates from a screenplay by Steve Kloves. The film is the second of two cinematic parts based on the 2007 novel Harry Potter and the Deathly Hallows by J. K. Rowling. It is the sequel to Harry Potter and the Deathly Hallows – Part 1 (2010) and the eighth and final instalment in the Harry Potter film series. The story concludes Harry Potter's quest to find and destroy Lord Voldemort's Horcruxes in order to stop him once and for all.\\nThe film stars an ensemble cast consisting of Daniel Radcliffe as Harry Potter, and Rupert Grint and Emma Watson as Harry's best friends, Ron Weasley and Hermione Granger, alongside Helena Bonham Carter, Robbie Coltrane, Warwick Davis, Ralph Fiennes, Michael Gambon, John Hurt, Jason Isaacs, Gary Oldman, Alan Rickman, Maggie Smith, David Thewlis, and Julie Walters. Principal photography began on 19 February 2009, and was completed on 12 June 2010, with reshoots taking place in December 2010.\\nPart 2 was released in the United Kingdom and the United States on 15 July 2011, by Warner Bros. Pictures, and is the only Harry Potter film to be released in 3D. The film was a commercial success and one of the best-reviewed films of 2011, earning praise for the acting, Yates's direction, musical score, visual effects, cinematography, action sequences, and satisfying conclusion of the saga. At the box office, Part 2 claimed the worldwide opening weekend record, earning $483.2 million, as well as setting opening day and opening weekend records in various countries. Part 2 grossed over $1.3 billion worldwide and became the third-highest-grossing film at the time of its release, the highest-grossing film of 2011, and the highest-grossing film released by Warner Bros. until it was overtaken by Barbie in 2023. It is currently the highest-grossing film in the Harry Potter series and well as in the Wizarding World franchise. The National Board of Review named The Deathly Hallows – Part 2 as one of the top-ten films of 2011. It was nominated for three awards at the 84th Academy Awards, and received numerous other accolades.\\nThe DVD and Blu-ray were released on 11 November 2011 in the United States and on 2 December 2011 in the United Kingdom. Part 1 and Part 2 were released as a combo\"}, {'MovieTitle': 'Harry Potter and the Deathly Hallows – Part 2', 'DiscoveryText': ' States dollars, its opening weekend was an all-time record $38.3 million, ahead of Harry Potter and the Order of the Phoenix ($33.5 million). The film also achieved the largest single-day gross on its first Saturday and the largest opening week with $57.6 million. The film made a total of £73.1 million ($117.2 million) at the United Kingdom box office, making it the tenth-highest-grossing film. It also is the highest-grossing film of 2011 and the highest-grossing Wizarding World film.Deathly Hallows – Part 2 also set opening-day records in Mexico ($6.1 million), Australia ($7.5 million), France and the Maghreb region ($7.1 million), Italy ($4.6 million), Sweden ($2.1 million), Norway ($1.8 million), Denmark ($1.6 million), the Netherlands ($1.7 million), Belgium ($1.4 million), the Czech Republic ($2.0 million), Argentina ($961,000), Finland ($749,000) and Hong Kong ($808,000). It also established new Harry Potter opening-day records in Japan ($5.7 million), Brazil ($4.4 million), Russia and the CIS ($4.2 million), Spain ($3.3 million) and Poland ($1.25 million).Deathly Hallows – Part 2 set opening day records in India with ₹15 crore ($3.41 million), Australia with $19.6 million, New Zealand with $2.46 million, Brazil with $11. million, Scandinavia with $18.5 million, Mexico with $15.9 million and many other Latin American and European countries.\\n\\n\\n=== Critical response ===\\nOn Rotten Tomatoes, the film has an approval rating of 96% based on 332 reviews, with an average score of 8.3/10. The site\\'s critical consensus reads, \"Thrilling, powerfully acted, and visually dazzling, Deathly Hallows Part II brings the Harry Potter franchise to a satisfying – and suitably magical – conclusion.\" On Metacritic, which assigns a normalised rating to reviews, the film has a score of 85 out of 100 based on 41 reviews, indicating \"universal acclaim\". The film received a score of 93 from professional critics at the Broadcast Film Critics Association; it is the organisation\\'s highest-rated Harry Potter film. Audiences surveyed by CinemaScore gave the film an average grade of \"'}, {'MovieTitle': 'Harry Potter and the Deathly Hallows – Part 2', 'DiscoveryText': ' due to, what David Heyman called, \"creative imperative\". Heyman initially responded negatively to the idea, but Wigram asked, \"No, David. How are we going to do it?\". After rereading the book and discussing it with screenwriter Steve Kloves, he agreed with the division.\\n\\n\\n=== Sets ===\\nIn an interview with Architectural Digest, production designer Stuart Craig remarked on creating sets for Part 2. Of the Gringotts Wizarding Bank, he said, \"our banking hall, like any other, is made of marble and big marble columns. And it has great strength. The fact that the goblins are the bankers and tellers at the counter helps that feeling of grandeur and solidity and the big proportions. That was part of the fun of the set: we exaggerated the size of it, we exaggerated the weight of it, and we even exaggerated the shine of the marble.\" About the multiplication of treasure in one of the bank\\'s vaults, he noted, \"We made literally thousands of pieces for it and vacuum metallised them to be shiny gold and silver. John Richardson, the special effects supervisor, made a floor that was capable of rising on different levels, so there was kind of a physical swelling of the treasure on it.\"Craig spoke about the Battle of Hogwarts to Art Insights Magazine, saying that \"the great challenge is the destruction of Hogwarts. The sun rising behind the smoke ... the massive remains of destroyed walls, the entrance hall, the entrance of the Great Hall, part of the roof of the Great Hall completely gone, so yeah. A big challenge there and an enjoyable one really – maybe it helped me and the guys in the art department sort of prepare for the end ... we demolished it before we had to strike it completely.\" When asked about the King\\'s Cross scene near the end of the film, Craig said, \"We experimented a lot, quite honestly. I mean it was quite a protracted process really but we did experiment the sense of it being very burnt out very very kind of white – so we experimented with underlit floors, we experimented with different kind of white covering everything: white paint, white fabric, and the cameraman was involved in how much to expose it, and a series of camera tests were done, so we got there but with a great deal of preparation and research.\"\\n\\n\\n=== Visual effects ===\\nVisual effects supervisor Tim Burke said that \"It was such a major job to stage the Battle of Hogwarts, and we had to do it'}, {'MovieTitle': 'Harry Potter and the Deathly Hallows – Part 2', 'DiscoveryText': \" never commanded the Elder Wand. It recognised him as its true master after he had disarmed Draco, who had earlier disarmed its previous owner, Dumbledore, atop the Astronomy Tower. Instead of claiming the Elder Wand, Harry destroys it.\\nNineteen years later, Harry and his friends proudly watch their children leave for Hogwarts at King's Cross station.\\n\\n\\n== Cast ==\\n\\nDaniel Radcliffe as Harry Potter: A 17-year-old British wizard.\\nRupert Grint as Ron Weasley: One of Harry's best friends.\\nEmma Watson as Hermione Granger: Harry's other best friend.\\nHelena Bonham Carter as Bellatrix Lestrange: A Death Eater and Sirius Black's cousin and murderer.\\nRobbie Coltrane as Rubeus Hagrid: Harry's half-giant friend and a former member of staff at Hogwarts.\\nWarwick Davis as Filius Flitwick: The Charms master and Head of the Ravenclaw house at Hogwarts; and also as Griphook, a goblin and former employee at Gringotts Bank.\\nRalph Fiennes as Lord Voldemort: A twisted, evil, power-hungry, powerful wizard, and the founder and supreme leader of the Death Eaters.\\nMichael Gambon as Professor Albus Dumbledore: The late headmaster of Hogwarts.\\nJohn Hurt as Garrick Ollivander: A wandmaker abducted by the Death Eaters.\\nJason Isaacs as Lucius Malfoy: Draco Malfoy's father and a disgraced Death Eater.\\nHelen McCrory as Narcissa Malfoy: Draco's mother and Bellatrix's sister.\\nGary Oldman as Sirius Black: Harry's late godfather.\\nAlan Rickman as Professor Severus Snape: Former Head of the Slytherin House and Potions and Defence Against the Dark Arts teacher and the new headmaster of Hogwarts.\\nMaggie Smith as Professor Minerva McGonagall: The Transfiguration teacher and the Head of the Gryffindor house at Hogwarts.\\nDavid Thewlis as Remus Lupin: A werewolf, member of the Order of the Phoenix and a former Defence Against the Dark Arts teacher at Hogwarts.\\nJulie Walters as Molly Weasley: The Weasley matriarch.\\nTom Felton as Draco Malfoy: A Death Eater and son of Lucius and Narcissa Malfoy.\\nBonnie Wright as Ginny Weasley: Ron's younger sister and Harry's love interest.\\nMatthew Lewis as Neville Longbottom: A schoolfriend and\"}, {'MovieTitle': 'Harry Potter and the Prisoner of Azkaban', 'DiscoveryText': \" parents, and an angry Harry causes her to inflate and float away. Expecting to be expelled for using magic outside school, Harry flees with his belongings.\\nThe Knight Bus, emergency transport for stranded witches and wizards, finds and takes Harry to the Leaky Cauldron, where Minister for Magic Cornelius Fudge assures Harry that he will not be punished. Reuniting with his best friends Ron Weasley and Hermione Granger, Harry learns that Sirius Black, a convicted supporter of Lord Voldemort, has escaped Azkaban Prison and intends to kill him. During the journey to Hogwarts, the Hogwarts Express is boarded by Dementors, ghostly prison guards searching for Black. One enters Harry's compartment, causing him to faint, but new Defense Against the Dark Arts teacher Remus Lupin repels it with a Patronus Charm. At Hogwarts, Headmaster Albus Dumbledore announces that Dementors will patrol the school until Black is captured.\\nRubeus Hagrid is appointed Care of Magical Creatures teacher, but his first class goes awry when Draco Malfoy provokes a Hippogriff named Buckbeak into attacking him; Malfoy's father, Lucius, consequently has Buckbeak sentenced to death.\\nReturning to Gryffindor Tower, the students find the Fat Lady's portrait has been attacked, and the terrified Fat Lady warns Dumbledore that Black entered the castle. During a stormy Quidditch match, Dementors cause Harry to fall off his broomstick, which is destroyed by the Whomping Willow. Dumbledore uses the Slowing Charm to break Harry's fall, who later wakes up in the infirmary.\\nHarry, after leaving the infirmary, is caught trying to visit Hogsmeade by Fred and George, who give him the Marauder's Map. Using the map, Harry sneaks into Hogsmeade and learns that Black is his godfather but divulged the Potters' whereabouts to Voldemort and murdered their mutual friend Peter Pettigrew.\\nDetermined to ward off the Dementors, Harry convinces Lupin to teach him the Patronus Charm. After Divination class, he witnesses Professor Trelawney enter a trance and prophesy that the Dark Lord will return. Watching Buckbeak's execution, Ron's pet rat Scabbers bites him and escapes, but a large black dog drags them both into a hole at the base of the Whomping Willow. This leads the trio through an underground passage into the Shrieking Shack, where the\"}, {'MovieTitle': 'Harry Potter and the Prisoner of Azkaban', 'DiscoveryText': '\\nOn Rotten Tomatoes the film has an approval rating of 90% based on 259 reviews, with an average rating of 7.8/10. The site\\'s critical consensus reads, \"Under the assured direction of Alfonso Cuarón, Harry Potter and the Prisoner of Azkaban triumphantly strikes a delicate balance between technical wizardry and complex storytelling.\" On Metacritic, the film has a weighted average score of 82 out of 100, based on 40 critics, indicating \"universal acclaim\". Audiences polled by CinemaScore gave the film an average grade of \"A\" on an A+ to F scale.Mick LaSalle of the San Francisco Chronicle lauded the film\\'s more mature tone and said it was \"darker, more complex, rooted in character.\" The Hollywood Reporter called the film \"a deeper, darker, visually arresting and more emotionally satisfying adaptation of the J.K. Rowling literary phenomenon,\" especially compared to the first two instalments. Peter Travers of Rolling Stone gave the film three-and-a-half out of four stars: \"Not only is this dazzler by far the best and most thrilling of the three Harry Potter movies to date, it\\'s a film that can stand on its own even if you never heard of author J.K. Rowling and her young wizard hero.\" Stephanie Zacharek of Salon considered it \"one of the greatest fantasy films of all time.\" Nicole Arthur of The Washington Post praised the film as \"complex, frightening, [and] nuanced.\" Roger Ebert gave the film three-and-a-half out of four stars, saying that the film was not quite as good as the first two, but still called it \"delightful, amusing and sophisticated.\" Claudia Puig from USA Today found the film to be \"a visual delight,\" and added that \"Cuarón is not afraid to make a darker film and tackle painful emotions\"; while Richard Roeper called the film \"a creative triumph.\" Sean Smith from Newsweek said: \"The Prisoner of Azkaban boasts a brand-new director and a bold new vision,\" and called the film \"moving,\" praising the performances by the three main leads.  Entertainment Weekly praised the film for being more mature than its predecessors.The Guardian gave the film 3 stars out of 5, saying, \"This new Harry Potter picture will cast a spell on its fanbase. But the broomstick\\'s losing altitude.\" Film critic Roger Ebert praised the cast, but felt the need for a better plot. Screen Daily'}]\u001b[0m\n",
      "\n",
      "\u001b[1m> Finished chain.\u001b[0m\n",
      "I don't know the answer.\n"
     ]
    }
   ],
   "source": [
    "print(cypher_chain(\"How does Harry Potter discover he is a wizard?\"))"
   ]
  }
 ],
 "metadata": {
  "kernelspec": {
   "display_name": "harry-potter-demo-M6hG0Rsr",
   "language": "python",
   "name": "python3"
  },
  "language_info": {
   "codemirror_mode": {
    "name": "ipython",
    "version": 3
   },
   "file_extension": ".py",
   "mimetype": "text/x-python",
   "name": "python",
   "nbconvert_exporter": "python",
   "pygments_lexer": "ipython3",
   "version": "3.9.6"
  }
 },
 "nbformat": 4,
 "nbformat_minor": 2
}
