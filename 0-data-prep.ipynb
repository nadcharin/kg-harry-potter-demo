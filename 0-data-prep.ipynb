{
 "cells": [
  {
   "cell_type": "code",
   "execution_count": 19,
   "metadata": {},
   "outputs": [],
   "source": [
    "import wikipedia,os,re\n",
    "\n",
    "from pathlib import Path\n",
    "from typing import List\n",
    "\n",
    "\n",
    "from dotenv import load_dotenv, find_dotenv\n",
    "_ = load_dotenv(find_dotenv())"
   ]
  },
  {
   "cell_type": "markdown",
   "metadata": {},
   "source": [
    "##### define movies's title"
   ]
  },
  {
   "cell_type": "code",
   "execution_count": 17,
   "metadata": {},
   "outputs": [],
   "source": [
    "movie_title_list = [\"Harry Potter and the Philosopher's Stone (film)\",\"Harry Potter and the Chamber of Secrets (film)\",\"Harry Potter and the Prisoner of Azkaban (film)\",\"Harry Potter and the Goblet of Fire (film)\",\"Harry Potter and the Order of the Phoenix (film)\",\"Harry Potter and the Half-Blood Prince (film)\",\"Harry Potter and the Deathly Hallows – Part 1\",\"Harry Potter and the Deathly Hallows – Part 2\"]"
   ]
  },
  {
   "cell_type": "markdown",
   "metadata": {},
   "source": [
    "##### load content of each movie from Wikipedia then store the content to .txt file"
   ]
  },
  {
   "cell_type": "code",
   "execution_count": 24,
   "metadata": {},
   "outputs": [],
   "source": [
    "movie_list = []\n",
    "pattern = r\"^(.*?) \\(film\\)$\"\n",
    "for movie in movie_title_list:\n",
    "    url = wikipedia.page(movie,auto_suggest=False).url\n",
    "    content = wikipedia.page(movie,auto_suggest=False).content\n",
    "    with open(f'data/{movie}.txt','w') as f:\n",
    "       movie_name = re.sub(pattern, r\"\\1\", movie)\n",
    "       f.write(f\"{movie_name}\\n\")\n",
    "       f.write(f\"{content}\\n\")"
   ]
  }
 ],
 "metadata": {
  "kernelspec": {
   "display_name": "Python 3",
   "language": "python",
   "name": "python3"
  },
  "language_info": {
   "codemirror_mode": {
    "name": "ipython",
    "version": 3
   },
   "file_extension": ".py",
   "mimetype": "text/x-python",
   "name": "python",
   "nbconvert_exporter": "python",
   "pygments_lexer": "ipython3",
   "version": "3.9.6"
  }
 },
 "nbformat": 4,
 "nbformat_minor": 2
}
