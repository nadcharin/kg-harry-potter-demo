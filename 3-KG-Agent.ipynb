{
 "cells": [
  {
   "cell_type": "code",
   "execution_count": 1,
   "metadata": {},
   "outputs": [
    {
     "name": "stderr",
     "output_type": "stream",
     "text": [
      "/Users/nadcharin/.local/share/virtualenvs/harry-potter-demo-M6hG0Rsr/lib/python3.9/site-packages/urllib3/__init__.py:34: NotOpenSSLWarning: urllib3 v2 only supports OpenSSL 1.1.1+, currently the 'ssl' module is compiled with 'LibreSSL 2.8.3'. See: https://github.com/urllib3/urllib3/issues/3020\n",
      "  warnings.warn(\n"
     ]
    }
   ],
   "source": [
    "from langchain.graphs import Neo4jGraph\n",
    "import os\n",
    "import glob\n",
    "import json\n",
    "from pathlib import Path\n",
    "from langchain.chains import GraphCypherQAChain\n",
    "from langchain.graphs import Neo4jGraph\n",
    "from langchain.chains import RetrievalQA\n",
    "from langchain.chat_models import ChatOpenAI\n",
    "from langchain.vectorstores.neo4j_vector import Neo4jVector\n",
    "from langchain.embeddings.openai import OpenAIEmbeddings\n",
    "from langchain.prompts.prompt import PromptTemplate\n",
    "\n",
    "from dotenv import load_dotenv, find_dotenv\n",
    "_ = load_dotenv(find_dotenv())\n",
    "\n",
    "from langchain.agents import initialize_agent, Tool\n",
    "from langchain.agents import AgentType"
   ]
  },
  {
   "cell_type": "code",
   "execution_count": 2,
   "metadata": {},
   "outputs": [],
   "source": [
    "\n",
    "child_store = Neo4jVector.from_existing_index(\n",
    "    OpenAIEmbeddings(),\n",
    "    url=os.getenv('NEO4J_URL'),\n",
    "    username=os.getenv('NEO4J_USER'),\n",
    "    password=os.getenv('NEO4J_PASS'),\n",
    "    database=os.getenv('NEO4J_DB'),\n",
    "    index_name='child_document',\n",
    "    )\n",
    "\n",
    "vector_child_qa = RetrievalQA.from_chain_type(\n",
    "        llm=ChatOpenAI(temperature=0,model_name=os.getenv('OPENAI_MODEL')), chain_type=\"stuff\", retriever=child_store.as_retriever()\n",
    "    )\n",
    "\n",
    "\n",
    "CYPHER_GENERATION_TEMPLATE = \"\"\"You are an expert Neo4j Cypher translator who understands the question in english and convert to Cypher strictly based on the Neo4j Schema provided and following the instructions below:\n",
    "    1. Generate Cypher query compatible ONLY for Neo4j Version 5\n",
    "    2. DO NOT use EXISTS, SIZE keywords in the cypher. Use alias when using the WITH keyword\n",
    "    3. Use only Nodes and relationships mentioned in the schema\n",
    "    4. Always enclose the Cypher output inside 3 backticks\n",
    "    5. ALWAYS do a case-insensitive and fuzzy search for any properties related search. Eg: to search for a Patient name use `toLower(p.name) contains 'neo4j'`\n",
    "    6. Always use aliases to refer the node in the query\n",
    "    7. Cypher is NOT SQL. So, do not mix and match the syntaxes\n",
    "    Schema:\n",
    "    {schema}\n",
    "\n",
    "    Note: Do not include any explanations or apologies in your responses.\n",
    "    Do not respond to any questions that might ask anything else than for you to construct a Cypher statement.\n",
    "    Do not include any text except the generated Cypher statement.\n",
    "\n",
    "    The question is:\n",
    "    {question}\"\"\"\n",
    "\n",
    "CYPHER_GENERATION_PROMPT = PromptTemplate(\n",
    "        input_variables=[\"schema\", \"question\"], template=CYPHER_GENERATION_TEMPLATE)\n",
    "\n",
    "\n",
    "graph = Neo4jGraph(url=os.getenv('NEO4J_URI'), username=os.getenv('NEO4J_USER'), password=os.getenv('NEO4J_PASSWORD'),database=os.getenv('NEO4J_DATABASE'))\n",
    "\n",
    "cypher_chain = GraphCypherQAChain.from_llm(\n",
    "cypher_llm = ChatOpenAI(temperature=0, model_name=os.getenv('OPENAI_MODEL')),\n",
    "qa_llm = ChatOpenAI(temperature=0,model_name=os.getenv('OPENAI_MODEL')), graph=graph, verbose=True,cypher_prompt=CYPHER_GENERATION_PROMPT)\n"
   ]
  },
  {
   "cell_type": "code",
   "execution_count": 3,
   "metadata": {},
   "outputs": [],
   "source": [
    "tools = [\n",
    "    Tool(\n",
    "        name=\"Vector\",\n",
    "        func=vector_child_qa.run,\n",
    "        description=\"\"\"Useful when you need to answer general questions or summarisation.\n",
    "        Not useful for counting the number of anything.\n",
    "        Use full question as input.\n",
    "        \"\"\",\n",
    "    ),\n",
    "    Tool(\n",
    "        name=\"Graph\",\n",
    "        func=cypher_chain.run,\n",
    "        description=\"\"\"Useful when you need to answer questions about relationship,\n",
    "        their dependencies. Also useful for any sort of\n",
    "        aggregation like counting the number, etc.\n",
    "        Use full question as input.\n",
    "        \"\"\",\n",
    "    ),\n",
    "]\n",
    "\n",
    "mrkl = initialize_agent(\n",
    "    tools, ChatOpenAI(temperature=0, model_name=os.getenv('OPENAI_MODEL')), agent=AgentType.OPENAI_FUNCTIONS, verbose=True\n",
    ")"
   ]
  },
  {
   "cell_type": "code",
   "execution_count": 4,
   "metadata": {},
   "outputs": [
    {
     "name": "stdout",
     "output_type": "stream",
     "text": [
      "\n",
      "\n",
      "\u001b[1m> Entering new AgentExecutor chain...\u001b[0m\n",
      "\u001b[32;1m\u001b[1;3m\n",
      "Invoking: `Graph` with `Which actors appeared in all eight Harry Potter films, and who are their characters?`\n",
      "\n",
      "\n",
      "\u001b[0m\n",
      "\n",
      "\u001b[1m> Entering new GraphCypherQAChain chain...\u001b[0m\n",
      "Generated Cypher:\n",
      "\u001b[32;1m\u001b[1;3m\n",
      "MATCH (actor:Cast)-[acted:ACTED_IN]->(movie:Movie)\n",
      "WHERE toLower(movie.title) CONTAINS 'harry potter'\n",
      "WITH actor, acted.role AS character, COUNT(movie) AS movieCount\n",
      "WHERE movieCount = 8\n",
      "RETURN actor.name, COLLECT(character) AS characters\n",
      "\u001b[0m\n",
      "Full Context:\n",
      "\u001b[32;1m\u001b[1;3m[{'actor.name': 'Tom Felton', 'characters': ['Draco Malfoy']}, {'actor.name': 'Bonnie Wright', 'characters': ['Ginny Weasley']}, {'actor.name': 'Emma Watson', 'characters': ['Hermione Granger']}, {'actor.name': 'Rupert Grint', 'characters': ['Ron Weasley']}, {'actor.name': 'Daniel Radcliffe', 'characters': ['Harry Potter']}]\u001b[0m\n",
      "\n",
      "\u001b[1m> Finished chain.\u001b[0m\n",
      "\u001b[33;1m\u001b[1;3mTom Felton appeared in all eight Harry Potter films as Draco Malfoy, Bonnie Wright as Ginny Weasley, Emma Watson as Hermione Granger, Rupert Grint as Ron Weasley, and Daniel Radcliffe as Harry Potter.\u001b[0m\u001b[32;1m\u001b[1;3mThe actors who appeared in all eight Harry Potter films and their characters are:\n",
      "\n",
      "- Daniel Radcliffe as Harry Potter\n",
      "- Rupert Grint as Ron Weasley\n",
      "- Emma Watson as Hermione Granger\n",
      "- Tom Felton as Draco Malfoy\n",
      "- Bonnie Wright as Ginny Weasley\n",
      "\n",
      "These actors portrayed their respective characters throughout the entire film series.\u001b[0m\n",
      "\n",
      "\u001b[1m> Finished chain.\u001b[0m\n",
      "The actors who appeared in all eight Harry Potter films and their characters are:\n",
      "\n",
      "- Daniel Radcliffe as Harry Potter\n",
      "- Rupert Grint as Ron Weasley\n",
      "- Emma Watson as Hermione Granger\n",
      "- Tom Felton as Draco Malfoy\n",
      "- Bonnie Wright as Ginny Weasley\n",
      "\n",
      "These actors portrayed their respective characters throughout the entire film series.\n"
     ]
    }
   ],
   "source": [
    "response = mrkl.run(\"Which actors appeared in all eight Harry Potter films, and who are their characters?\")\n",
    "print(response)"
   ]
  },
  {
   "cell_type": "code",
   "execution_count": 5,
   "metadata": {},
   "outputs": [
    {
     "name": "stdout",
     "output_type": "stream",
     "text": [
      "\n",
      "\n",
      "\u001b[1m> Entering new AgentExecutor chain...\u001b[0m\n",
      "\u001b[32;1m\u001b[1;3m\n",
      "Invoking: `Vector` with `How does Harry Potter discover he is a wizard?`\n",
      "\n",
      "\n",
      "\u001b[0m\u001b[36;1m\u001b[1;3mHarry Potter discovers he is a wizard just before his eleventh birthday when owls begin delivering letters addressed to him from Hogwarts School of Witchcraft and Wizardry. Despite his aunt and uncle's (the Dursleys) efforts to keep this information from him by refusing to let him read the letters and even fleeing to an isolated island hut, Hagrid, the Keeper of Keys and Grounds at Hogwarts, arrives in person to deliver Harry's acceptance letter. Hagrid also informs Harry about his magical heritage, including the fact that his parents, James and Lily Potter, were a wizard and a witch who were killed by the dark wizard Lord Voldemort.\u001b[0m\u001b[32;1m\u001b[1;3mHarry Potter discovers he is a wizard just before his eleventh birthday when Rubeus Hagrid, the Keeper of Keys and Grounds at Hogwarts, arrives to personally deliver Harry's acceptance letter to Hogwarts School of Witchcraft and Wizardry. Prior to Hagrid's arrival, Harry had been receiving letters from Hogwarts, but his aunt and uncle, the Dursleys, had been intercepting and destroying them in an attempt to prevent Harry from learning about his magical heritage. Hagrid informs Harry that he is a wizard and that his parents, who were also magical, were killed by the dark wizard Lord Voldemort.\u001b[0m\n",
      "\n",
      "\u001b[1m> Finished chain.\u001b[0m\n",
      "Harry Potter discovers he is a wizard just before his eleventh birthday when Rubeus Hagrid, the Keeper of Keys and Grounds at Hogwarts, arrives to personally deliver Harry's acceptance letter to Hogwarts School of Witchcraft and Wizardry. Prior to Hagrid's arrival, Harry had been receiving letters from Hogwarts, but his aunt and uncle, the Dursleys, had been intercepting and destroying them in an attempt to prevent Harry from learning about his magical heritage. Hagrid informs Harry that he is a wizard and that his parents, who were also magical, were killed by the dark wizard Lord Voldemort.\n"
     ]
    }
   ],
   "source": [
    "response = mrkl.run(\"How does Harry Potter discover he is a wizard?\")\n",
    "print(response)"
   ]
  },
  {
   "cell_type": "code",
   "execution_count": null,
   "metadata": {},
   "outputs": [],
   "source": []
  }
 ],
 "metadata": {
  "kernelspec": {
   "display_name": "harry-potter-demo-M6hG0Rsr",
   "language": "python",
   "name": "python3"
  },
  "language_info": {
   "codemirror_mode": {
    "name": "ipython",
    "version": 3
   },
   "file_extension": ".py",
   "mimetype": "text/x-python",
   "name": "python",
   "nbconvert_exporter": "python",
   "pygments_lexer": "ipython3",
   "version": "3.9.6"
  }
 },
 "nbformat": 4,
 "nbformat_minor": 2
}
